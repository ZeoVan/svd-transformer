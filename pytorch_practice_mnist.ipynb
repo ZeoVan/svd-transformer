{
 "cells": [
  {
   "cell_type": "markdown",
   "metadata": {},
   "source": [
    "# This is a practice notebook for pytorch (MNIST)"
   ]
  },
  {
   "cell_type": "code",
   "execution_count": 181,
   "metadata": {},
   "outputs": [],
   "source": [
    "import numpy as np\n",
    "import pandas as pd\n",
    "import torch\n",
    "import torchvision\n",
    "import matplotlib.pyplot as plt\n",
    "import time\n",
    "from torchvision import datasets, transforms\n",
    "from torch import nn, optim\n",
    "from torch import nn\n",
    "from torch.optim import SGD\n",
    "import torch.nn.functional as F"
   ]
  },
  {
   "cell_type": "code",
   "execution_count": 3,
   "metadata": {},
   "outputs": [
    {
     "data": {
      "text/plain": [
       "<torch._C.Generator at 0x7f6ec0aef230>"
      ]
     },
     "execution_count": 3,
     "metadata": {},
     "output_type": "execute_result"
    }
   ],
   "source": [
    "seed = 1234\n",
    "torch.manual_seed(seed)"
   ]
  },
  {
   "cell_type": "markdown",
   "metadata": {},
   "source": [
    "### Download and transform dataset (MNIST)"
   ]
  },
  {
   "cell_type": "code",
   "execution_count": 13,
   "metadata": {},
   "outputs": [],
   "source": [
    "## Define the transform function\n",
    "## Convert images to number that understand by pytorch\n",
    "## Separates into 3 colours (RGB)\n",
    "## Converts each pixel to the brightness of its colour (0-255)\n",
    "## Scale the values to a range between 0 and 1\n",
    "\n",
    "transform = transforms.Compose([transforms.ToTensor(),\n",
    "                              transforms.Normalize((0.5,), (0.5,)),\n",
    "                              ])"
   ]
  },
  {
   "cell_type": "code",
   "execution_count": null,
   "metadata": {},
   "outputs": [],
   "source": [
    "## Download dataset and transfrom\n",
    "\n",
    "trainset = datasets.MNIST('../Datasets/MNIST/train', download=True, train=True, transform=transform)\n",
    "valset = datasets.MNIST('../Datasets/MNIST/val', download=True, train=False, transform=transform)\n",
    "trainloader = torch.utils.data.DataLoader(trainset, batch_size=64, shuffle=True)\n",
    "valloader = torch.utils.data.DataLoader(valset, batch_size=64, shuffle=True)"
   ]
  },
  {
   "cell_type": "markdown",
   "metadata": {},
   "source": [
    "### EDA"
   ]
  },
  {
   "cell_type": "code",
   "execution_count": 15,
   "metadata": {},
   "outputs": [
    {
     "name": "stdout",
     "output_type": "stream",
     "text": [
      "torch.Size([64, 1, 28, 28])\n",
      "torch.Size([64])\n"
     ]
    }
   ],
   "source": [
    "## Load train data\n",
    "dataiter = iter(trainloader)\n",
    "images, labels = dataiter.next()\n",
    "\n",
    "## Print shapes of train data (64 images in EACH BATCH and each images has 28x28 pixels)\n",
    "print(images.shape)\n",
    "print(labels.shape)"
   ]
  },
  {
   "cell_type": "code",
   "execution_count": 23,
   "metadata": {},
   "outputs": [
    {
     "name": "stdout",
     "output_type": "stream",
     "text": [
      "tensor(5)\n"
     ]
    },
    {
     "data": {
      "image/png": "[encoded data removed]",
      "text/plain": [
       "<Figure size 432x288 with 1 Axes>"
      ]
     },
     "metadata": {
      "needs_background": "light"
     },
     "output_type": "display_data"
    }
   ],
   "source": [
    "## Print first image\n",
    "\n",
    "plt.imshow(images[0].numpy().squeeze(), cmap='gray_r');\n",
    "print(labels[0])"
   ]
  },
  {
   "cell_type": "markdown",
   "metadata": {},
   "source": [
    "### Deep Neural Network class"
   ]
  },
  {
   "cell_type": "code",
   "execution_count": 61,
   "metadata": {},
   "outputs": [
    {
     "name": "stdout",
     "output_type": "stream",
     "text": [
      "DNN(\n",
      "  (fc1): Linear(in_features=784, out_features=128, bias=True)\n",
      "  (fc2): Linear(in_features=128, out_features=64, bias=True)\n",
      "  (output): Linear(in_features=64, out_features=10, bias=True)\n",
      ")\n"
     ]
    }
   ],
   "source": [
    "class DNN(nn.Module):\n",
    "    def __init__(self):\n",
    "        super().__init__()\n",
    "        \n",
    "        ## Inputs to hidden layer linear transformation\n",
    "        self.fc1 = nn.Linear(784,128)\n",
    "        ## Fc layer 2\n",
    "        self.fc2 = nn.Linear(128,64)\n",
    "        ## Output layer, 10 unites - one for each digit\n",
    "        self.output = nn.Linear(64,10)\n",
    "        \n",
    "    def forward(self, x):\n",
    "        \n",
    "        ## Pass the input tensor through each operations\n",
    "        x = self.fc1(x)\n",
    "        x = F.relu(x)\n",
    "        x = self.fc2(x)\n",
    "        x = F.relu(x)\n",
    "        x = self.output(x)\n",
    "        x = F.log_softmax(x,dim=1)\n",
    "        \n",
    "        return(x)\n",
    "    \n",
    "model = DNN()\n",
    "print(model)"
   ]
  },
  {
   "cell_type": "markdown",
   "metadata": {},
   "source": [
    "### Training function"
   ]
  },
  {
   "cell_type": "code",
   "execution_count": 77,
   "metadata": {},
   "outputs": [
    {
     "name": "stdout",
     "output_type": "stream",
     "text": [
      "Epoch 0 - Training loss: 0.06839747598984523 - Time: 6.904\n",
      "Epoch 1 - Training loss: 0.06351189726074018 - Time: 13.980\n",
      "Epoch 2 - Training loss: 0.059363766724783884 - Time: 20.995\n",
      "Epoch 3 - Training loss: 0.05547568886784086 - Time: 27.979\n",
      "Epoch 4 - Training loss: 0.05215928316993047 - Time: 34.897\n",
      "Epoch 5 - Training loss: 0.049272442286683205 - Time: 41.892\n",
      "Epoch 6 - Training loss: 0.046396722273676715 - Time: 48.984\n",
      "Epoch 7 - Training loss: 0.043560585269688576 - Time: 56.018\n",
      "Epoch 8 - Training loss: 0.04081118111955379 - Time: 63.171\n",
      "Epoch 9 - Training loss: 0.038800192171030604 - Time: 70.027\n",
      "Epoch 10 - Training loss: 0.036530200935982624 - Time: 77.191\n",
      "Epoch 11 - Training loss: 0.03398177728564766 - Time: 84.313\n",
      "Epoch 12 - Training loss: 0.03261974094167991 - Time: 91.463\n",
      "Epoch 13 - Training loss: 0.03040728509078112 - Time: 98.487\n",
      "Epoch 14 - Training loss: 0.029746444451797412 - Time: 105.596\n"
     ]
    }
   ],
   "source": [
    "## Define optimizer\n",
    "optimizer = SGD(model.parameters(), lr = 0.01, momentum = 0.5)\n",
    "\n",
    "## Define loss function\n",
    "criterion = nn.NLLLoss()\n",
    "\n",
    "## Training starts here\n",
    "epochs = 15\n",
    "for e in range(epochs):\n",
    "    running_loss = 0\n",
    "    timer = time.time()\n",
    "    for images, labels in trainloader:\n",
    "        \n",
    "        ## Flatten the images into 784 long vector\n",
    "        images = images.view(images.shape[0], -1)\n",
    "        \n",
    "        ## For each iteration reset gradient\n",
    "        optimizer.zero_grad()\n",
    "        \n",
    "        ## Run the input data through the network (forward pass)\n",
    "        output = model(images)\n",
    "        \n",
    "        ## Calculate the losses using the loss functioon\n",
    "        loss = criterion(output, labels)\n",
    "        \n",
    "        ## Perform backpropagation \n",
    "        loss.backward()\n",
    "        \n",
    "        ## Updates the weigh\n",
    "        optimizer.step()\n",
    "        \n",
    "        running_loss += loss.item()\n",
    "        \n",
    "    else:\n",
    "        print(\"Epoch {} - Training loss: {} - Time: {:.4f}s\".format(e, running_loss/len(trainloader), (time.time()-timer)))"
   ]
  },
  {
   "cell_type": "markdown",
   "metadata": {},
   "source": [
    "### Testing"
   ]
  },
  {
   "cell_type": "code",
   "execution_count": 310,
   "metadata": {},
   "outputs": [],
   "source": [
    "all_labels = []\n",
    "probs = pd.Series([0])\n",
    "\n",
    "with torch.no_grad():\n",
    "    for images, labels in valloader:\n",
    "            images = images.view(images.shape[0], -1)\n",
    "            output_test = model(images)\n",
    "            output_test = torch.exp(output_test)\n",
    "            output_test = output_test.tolist()\n",
    "            output_test = pd.Series(output_test)\n",
    "            probs = probs.append(output_test,ignore_index=True)\n",
    "            all_labels += labels.tolist()\n",
    "\n",
    "def getClass(x):\n",
    "    return(x.index(max(x)))\n",
    "\n",
    "all_predicted = probs[1:].apply(getClass)\n",
    "all_predicted.reset_index(drop=True, inplace=True)"
   ]
  },
  {
   "cell_type": "markdown",
   "metadata": {},
   "source": [
    "### Evaluation"
   ]
  },
  {
   "cell_type": "code",
   "execution_count": 324,
   "metadata": {},
   "outputs": [
    {
     "name": "stdout",
     "output_type": "stream",
     "text": [
      "Testing accuracy:  0.9769\n",
      "\n",
      "[[ 968    0    0    1    1    3    4    1    2    0]\n",
      " [   0 1127    2    0    0    1    2    0    3    0]\n",
      " [   5    1 1007    1    3    0    4    5    5    1]\n",
      " [   3    0    2  991    0    2    0    6    3    3]\n",
      " [   3    0    4    0  962    0    2    3    0    8]\n",
      " [   3    1    0    9    3  863    5    0    7    1]\n",
      " [   3    3    2    1    6    3  936    0    4    0]\n",
      " [   1    7    7    2    2    1    0  993    4   11]\n",
      " [   4    0    2    6    3    4    3    2  947    3]\n",
      " [   1    3    0    6   11    1    1    7    4  975]]\n"
     ]
    }
   ],
   "source": [
    "import sklearn.metrics\n",
    "from sklearn.metrics import confusion_matrix\n",
    "\n",
    "acc = (pd.value_counts(all_predicted == all_labels)[1])/len(all_labels)\n",
    "print('Testing accuracy: ', acc)\n",
    "print()\n",
    "\n",
    "confusion = sklearn.metrics.confusion_matrix(y_true=all_labels, y_pred=all_predicted)\n",
    "print(confusion)"
   ]
  },
  {
   "cell_type": "code",
   "execution_count": null,
   "metadata": {},
   "outputs": [],
   "source": []
  }
 ],
 "metadata": {
  "kernelspec": {
   "display_name": "Python 3",
   "language": "python",
   "name": "python3"
  },
  "language_info": {
   "codemirror_mode": {
    "name": "ipython",
    "version": 3
   },
   "file_extension": ".py",
   "mimetype": "text/x-python",
   "name": "python",
   "nbconvert_exporter": "python",
   "pygments_lexer": "ipython3",
   "version": "3.6.10"
  }
 },
 "nbformat": 4,
 "nbformat_minor": 4
}
