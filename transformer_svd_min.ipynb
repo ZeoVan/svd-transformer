{
 "cells": [
  {
   "cell_type": "markdown",
   "metadata": {},
   "source": [
    "# Playground for Transformers!\n",
    "\n",
    "### Attention is all you need \n",
    "(https://arxiv.org/abs/1706.03762)\n",
    "\n",
    "### For software vulnerability detection GYM"
   ]
  },
  {
   "cell_type": "markdown",
   "metadata": {},
   "source": [
    "This is a minimal example of this **CRAZY** idea!"
   ]
  },
  {
   "cell_type": "markdown",
   "metadata": {},
   "source": [
    "### Note"
   ]
  },
  {
   "cell_type": "markdown",
   "metadata": {},
   "source": [
    "* LSTM is working with:\n",
    "    * Adam Learning rate = 0.01\n",
    "    * Overfitted on 14 epoch. 100% training accuracy.\n",
    "    * Worked on 1K dataset sample\n",
    "    * Using the `hidden`n or `cell` output from LSTM. Not the `output`.\n",
    "    * Bidrectional (2 layers)\n",
    "* Transformer:\n",
    "    * Still trying to find the right combination\n",
    "    * Adam Learning rate 0.0001"
   ]
  },
  {
   "cell_type": "markdown",
   "metadata": {},
   "source": [
    "### Dataset"
   ]
  },
  {
   "cell_type": "markdown",
   "metadata": {},
   "source": [
    "Import"
   ]
  },
  {
   "cell_type": "code",
   "execution_count": 1,
   "metadata": {},
   "outputs": [],
   "source": [
    "import numpy as np\n",
    "import pandas as pd\n",
    "import os\n",
    "import torch\n",
    "import re\n",
    "import torch.backends.cudnn as cudnn\n",
    "import torchtext\n",
    "import matplotlib.pyplot as plt\n",
    "import time\n",
    "from torch.autograd import Variable\n",
    "from torch import nn, optim\n",
    "from torch.optim import SGD,Adam\n",
    "import torch.nn.functional as F\n",
    "import random\n",
    "from gensim.models.word2vec import Word2Vec\n",
    "import torchtext.vocab as vocab"
   ]
  },
  {
   "cell_type": "code",
   "execution_count": 2,
   "metadata": {},
   "outputs": [
    {
     "name": "stdout",
     "output_type": "stream",
     "text": [
      "cuda\n"
     ]
    }
   ],
   "source": [
    "seed = 1234\n",
    "torch.manual_seed(seed)\n",
    "#device = torch.device(\"cpu\");\n",
    "device = torch.device(\"cuda\" if torch.cuda.is_available() else \"cpu\")\n",
    "os.environ['CUDA_LAUNCH_BLOCKING'] = '1'\n",
    "cudnn.benchmark = True\n",
    "cudnn.enabled = True\n",
    "print(device)"
   ]
  },
  {
   "cell_type": "markdown",
   "metadata": {},
   "source": [
    "Load playset dataset"
   ]
  },
  {
   "cell_type": "code",
   "execution_count": 2,
   "metadata": {},
   "outputs": [],
   "source": [
    "dataset = pd.read_pickle('playset(0.25.2).pickle')"
   ]
  },
  {
   "cell_type": "markdown",
   "metadata": {},
   "source": [
    "View dataset"
   ]
  },
  {
   "cell_type": "code",
   "execution_count": 3,
   "metadata": {},
   "outputs": [
    {
     "data": {
      "text/html": [
       "<div>\n",
       "<style scoped>\n",
       "    .dataframe tbody tr th:only-of-type {\n",
       "        vertical-align: middle;\n",
       "    }\n",
       "\n",
       "    .dataframe tbody tr th {\n",
       "        vertical-align: top;\n",
       "    }\n",
       "\n",
       "    .dataframe thead th {\n",
       "        text-align: right;\n",
       "    }\n",
       "</style>\n",
       "<table border=\"1\" class=\"dataframe\">\n",
       "  <thead>\n",
       "    <tr style=\"text-align: right;\">\n",
       "      <th></th>\n",
       "      <th>functionSource</th>\n",
       "      <th>combine</th>\n",
       "    </tr>\n",
       "  </thead>\n",
       "  <tbody>\n",
       "    <tr>\n",
       "      <th>93792</th>\n",
       "      <td>go_file_opener_open (GOFileOpener const *fo, g...</td>\n",
       "      <td>False</td>\n",
       "    </tr>\n",
       "    <tr>\n",
       "      <th>79770</th>\n",
       "      <td>updatePathMap(bool left_level) {\\n\\tPoint from...</td>\n",
       "      <td>False</td>\n",
       "    </tr>\n",
       "    <tr>\n",
       "      <th>66999</th>\n",
       "      <td>interpret_tilde(const char* path) {\\n    stati...</td>\n",
       "      <td>False</td>\n",
       "    </tr>\n",
       "    <tr>\n",
       "      <th>44284</th>\n",
       "      <td>checkVarExp(\\n        Absyn *node,\\n        Ta...</td>\n",
       "      <td>True</td>\n",
       "    </tr>\n",
       "    <tr>\n",
       "      <th>49515</th>\n",
       "      <td>will_have_skip_worktree(const struct cache_ent...</td>\n",
       "      <td>True</td>\n",
       "    </tr>\n",
       "    <tr>\n",
       "      <th>...</th>\n",
       "      <td>...</td>\n",
       "      <td>...</td>\n",
       "    </tr>\n",
       "    <tr>\n",
       "      <th>96701</th>\n",
       "      <td>AVLTree_insert(AVLTree * tree, void * data)\\n{...</td>\n",
       "      <td>False</td>\n",
       "    </tr>\n",
       "    <tr>\n",
       "      <th>67815</th>\n",
       "      <td>remove_hook(const char *name, hookfn fn)\\n{\\n\\...</td>\n",
       "      <td>False</td>\n",
       "    </tr>\n",
       "    <tr>\n",
       "      <th>88363</th>\n",
       "      <td>output_def(dico_stream_t str, struct gcide_db ...</td>\n",
       "      <td>False</td>\n",
       "    </tr>\n",
       "    <tr>\n",
       "      <th>65929</th>\n",
       "      <td>getState(\\n\\t\\tFLMUINT\\t\\tuiFieldID)\\n\\t{\\n\\t\\...</td>\n",
       "      <td>False</td>\n",
       "    </tr>\n",
       "    <tr>\n",
       "      <th>16426</th>\n",
       "      <td>untag_proplist(Pulse_Tag *tag, Eina_Hash **pro...</td>\n",
       "      <td>True</td>\n",
       "    </tr>\n",
       "  </tbody>\n",
       "</table>\n",
       "<p>100000 rows × 2 columns</p>\n",
       "</div>"
      ],
      "text/plain": [
       "                                          functionSource  combine\n",
       "93792  go_file_opener_open (GOFileOpener const *fo, g...    False\n",
       "79770  updatePathMap(bool left_level) {\\n\\tPoint from...    False\n",
       "66999  interpret_tilde(const char* path) {\\n    stati...    False\n",
       "44284  checkVarExp(\\n        Absyn *node,\\n        Ta...     True\n",
       "49515  will_have_skip_worktree(const struct cache_ent...     True\n",
       "...                                                  ...      ...\n",
       "96701  AVLTree_insert(AVLTree * tree, void * data)\\n{...    False\n",
       "67815  remove_hook(const char *name, hookfn fn)\\n{\\n\\...    False\n",
       "88363  output_def(dico_stream_t str, struct gcide_db ...    False\n",
       "65929  getState(\\n\\t\\tFLMUINT\\t\\tuiFieldID)\\n\\t{\\n\\t\\...    False\n",
       "16426  untag_proplist(Pulse_Tag *tag, Eina_Hash **pro...     True\n",
       "\n",
       "[100000 rows x 2 columns]"
      ]
     },
     "execution_count": 3,
     "metadata": {},
     "output_type": "execute_result"
    }
   ],
   "source": [
    "dataset"
   ]
  },
  {
   "cell_type": "code",
   "execution_count": 4,
   "metadata": {},
   "outputs": [
    {
     "data": {
      "text/html": [
       "<div>\n",
       "<style scoped>\n",
       "    .dataframe tbody tr th:only-of-type {\n",
       "        vertical-align: middle;\n",
       "    }\n",
       "\n",
       "    .dataframe tbody tr th {\n",
       "        vertical-align: top;\n",
       "    }\n",
       "\n",
       "    .dataframe thead th {\n",
       "        text-align: right;\n",
       "    }\n",
       "</style>\n",
       "<table border=\"1\" class=\"dataframe\">\n",
       "  <thead>\n",
       "    <tr style=\"text-align: right;\">\n",
       "      <th></th>\n",
       "      <th>functionSource</th>\n",
       "      <th>combine</th>\n",
       "    </tr>\n",
       "  </thead>\n",
       "  <tbody>\n",
       "    <tr>\n",
       "      <th>count</th>\n",
       "      <td>100000</td>\n",
       "      <td>100000</td>\n",
       "    </tr>\n",
       "    <tr>\n",
       "      <th>unique</th>\n",
       "      <td>100000</td>\n",
       "      <td>2</td>\n",
       "    </tr>\n",
       "    <tr>\n",
       "      <th>top</th>\n",
       "      <td>v_identifier(void)\\n#else\\nv_identifier()\\n#en...</td>\n",
       "      <td>True</td>\n",
       "    </tr>\n",
       "    <tr>\n",
       "      <th>freq</th>\n",
       "      <td>1</td>\n",
       "      <td>50000</td>\n",
       "    </tr>\n",
       "  </tbody>\n",
       "</table>\n",
       "</div>"
      ],
      "text/plain": [
       "                                           functionSource combine\n",
       "count                                              100000  100000\n",
       "unique                                             100000       2\n",
       "top     v_identifier(void)\\n#else\\nv_identifier()\\n#en...    True\n",
       "freq                                                    1   50000"
      ]
     },
     "execution_count": 4,
     "metadata": {},
     "output_type": "execute_result"
    }
   ],
   "source": [
    "dataset.describe(include='all')"
   ]
  },
  {
   "cell_type": "code",
   "execution_count": 5,
   "metadata": {},
   "outputs": [
    {
     "data": {
      "text/plain": [
       "'checkCapture2() const\\n{\\n    for(int i=6;i<48;i++)\\n    {\\n        switch(board[i])\\n        {\\n        case MAN2:\\n            if(board[i+5]==MAN1 || board[i+5]==KING1)\\n                if(board[i+10]==FREE) return true;\\n            if(board[i+6]==MAN1 || board[i+6]==KING1)\\n                if(board[i+12]==FREE) return true;\\n            break;\\n        case KING2:\\n            if(board[i-6]==MAN1 || board[i-6]==KING1)\\n                if(board[i-12]==FREE) return true;\\n            if(board[i-5]==MAN1 || board[i-5]==KING1)\\n                if(board[i-10]==FREE) return true;\\n            if(board[i+5]==MAN1 || board[i+5]==KING1)\\n                if(board[i+10]==FREE) return true;\\n            if(board[i+6]==MAN1 || board[i+6]==KING1)\\n                if(board[i+12]==FREE) return true;\\n        }\\n    }\\n    return false;\\n}'"
      ]
     },
     "execution_count": 5,
     "metadata": {},
     "output_type": "execute_result"
    }
   ],
   "source": [
    "dataset.functionSource[1]"
   ]
  },
  {
   "cell_type": "markdown",
   "metadata": {},
   "source": [
    "### Prepare data (in JSON)"
   ]
  },
  {
   "cell_type": "markdown",
   "metadata": {},
   "source": [
    "#### Clean & Preprocessing"
   ]
  },
  {
   "cell_type": "code",
   "execution_count": 6,
   "metadata": {},
   "outputs": [],
   "source": [
    "def clean(code):\n",
    "    ## Remove newlines & tabs\n",
    "    code = re.sub('(\\n)|(\\\\\\\\n)|(\\\\\\\\)|(\\\\t)|(/)|(\\\\r)|(\\\")|(\\')','',code)\n",
    "    ## Remove code comments\n",
    "    code = re.sub(r'/\\*(.|[\\r\\n])*?\\*/','',code)\n",
    "    ## Mix split (characters and words)\n",
    "    splitter = ' +|(;)|(\\()|(==)|(\\))|(=)|(\\+)|(\\-)|(\\[)|(\\])|(<)|(>)|({)|(#)'\n",
    "    code = re.split(splitter,code)\n",
    "    ## Remove None type\n",
    "    code = list(filter(None, code))\n",
    "    code = list(filter(str.strip, code))\n",
    "    code = \" \".join(code)\n",
    "    ## Return list of tokens\n",
    "    return(code)"
   ]
  },
  {
   "cell_type": "code",
   "execution_count": 7,
   "metadata": {},
   "outputs": [],
   "source": [
    "## Clean the codes\n",
    "dataset.functionSource = dataset.functionSource.apply(clean)"
   ]
  },
  {
   "cell_type": "code",
   "execution_count": 8,
   "metadata": {},
   "outputs": [],
   "source": [
    "## Change labels boolean to 1 and 0\n",
    "dataset.iloc[:,1] = np.multiply(dataset.iloc[:,1],1)"
   ]
  },
  {
   "cell_type": "code",
   "execution_count": 9,
   "metadata": {},
   "outputs": [],
   "source": [
    "## Change column name\n",
    "dataset = dataset.rename(columns={'functionSource':'codes', 'combine':'label'})"
   ]
  },
  {
   "cell_type": "code",
   "execution_count": 10,
   "metadata": {},
   "outputs": [
    {
     "data": {
      "text/plain": [
       "'CardPowerOff ( reader* globalData, char socket ) { char cmd [ 4 ] , ack ; int retVal, actual, retryTimes = 2 ; # ifdef ASE_DEBUG syslog ( LOG_INFO, CardPowerOff - Enter ) ; # endif if ( ( retVal = cardCommandInit ( globalData, socket, 1 ) ) ) return retVal ; cmd [ 0 ] = ASE_PACKET_TYPE ( 0x50, globalData - > commandCounter, socket ) ; globalData - > commandCounter + + ; globalData - > commandCounter % = 4 ; cmd [ 1 ] = 0x21 ; cmd [ 2 ] = 0x0 ; cmd [ 3 ] = cmd [ 0 ] ^ cmd [ 1 ] ^ cmd [ 2 ] ; do { lock_mutex ( globalData ) ; retVal = sendControlCommand ( globalData, socket, cmd, 4, &ack, &actual, 0 ) ; unlock_mutex ( globalData ) ; retryTimes - - ; } while ( retVal ! = ASE_OK && retryTimes ) ; if during the 3 tries the command failed, return an error status if ( retVal < 0 ) { return retVal ; } if ( ack ! = 0x20 ) { return parseStatus ( ack ) ; } * if the card is present, change the status to powered off * if ( globalData - > cards [ ( int ) socket ] .status ) globalData - > cards [ ( int ) socket ] .status = 1 ; # ifdef ASE_DEBUG syslog ( LOG_INFO, CardPowerOff - Exit ) ; # endif return ASE_OK ; }'"
      ]
     },
     "execution_count": 10,
     "metadata": {},
     "output_type": "execute_result"
    }
   ],
   "source": [
    "dataset.codes[24492]"
   ]
  },
  {
   "cell_type": "code",
   "execution_count": 11,
   "metadata": {},
   "outputs": [],
   "source": [
    "false = dataset[dataset.iloc[:,1]==0]\n",
    "true = dataset[dataset.iloc[:,1]==1]"
   ]
  },
  {
   "cell_type": "code",
   "execution_count": 12,
   "metadata": {},
   "outputs": [],
   "source": [
    "## Split to train,test,valid\n",
    "train = false[0:400].append(true[0:400])\n",
    "test  = false[400:400].append(true[400:450])\n",
    "valid = false[450:500].append(true[400:500])\n",
    "\n",
    "## Shuffle\n",
    "train = train.sample(frac=1).reset_index(drop=True)\n",
    "test = test.sample(frac=1).reset_index(drop=True)\n",
    "valid = valid.sample(frac=1).reset_index(drop=True)"
   ]
  },
  {
   "cell_type": "code",
   "execution_count": null,
   "metadata": {},
   "outputs": [],
   "source": [
    "## Save to json\n",
    "train.to_json('.data/train_.json', orient='records',lines=True)\n",
    "test.to_json('.data/test_1k.json', orient='records',lines=True)\n",
    "valid.to_json('.data/valid_1k.json', orient='records',lines=True)"
   ]
  },
  {
   "cell_type": "code",
   "execution_count": 3,
   "metadata": {},
   "outputs": [],
   "source": [
    "## Define the field\n",
    "\n",
    "CODES = torchtext.data.Field(batch_first=True)\n",
    "LABEL = torchtext.data.LabelField(dtype=torch.int64)\n",
    "fields = {'codes': ('codes', CODES), 'label': ('label', LABEL)}"
   ]
  },
  {
   "cell_type": "code",
   "execution_count": 4,
   "metadata": {},
   "outputs": [],
   "source": [
    "## Import the 1K data as TabularDataset\n",
    "train_data, valid_data, test_data = torchtext.data.TabularDataset.splits(\n",
    "                                        path = '.data',\n",
    "                                        train = 'train_1k.json',\n",
    "                                        validation = 'valid_1k.json',\n",
    "                                        test = 'test_1k.json',\n",
    "                                        format = 'json',\n",
    "                                        fields = fields)"
   ]
  },
  {
   "cell_type": "code",
   "execution_count": 4,
   "metadata": {},
   "outputs": [],
   "source": [
    "## Import the min(10k) data as TabularDataset\n",
    "train_data, valid_data, test_data = torchtext.data.TabularDataset.splits(\n",
    "                                        path = '.data',\n",
    "                                        train = 'train_min.json',\n",
    "                                        validation = 'valid_min.json',\n",
    "                                        test = 'test_min.json',\n",
    "                                        format = 'json',\n",
    "                                        fields = fields)"
   ]
  },
  {
   "cell_type": "code",
   "execution_count": null,
   "metadata": {},
   "outputs": [],
   "source": [
    "## Import the ALL data as TabularDataset\n",
    "train_data, valid_data, test_data = torchtext.data.TabularDataset.splits(\n",
    "                                        path = '.data',\n",
    "                                        train = 'train_all.json',\n",
    "                                        validation = 'valid_all.json',\n",
    "                                        test = 'test_all.json',\n",
    "                                        format = 'json',\n",
    "                                        fields = fields)"
   ]
  },
  {
   "cell_type": "code",
   "execution_count": 6,
   "metadata": {},
   "outputs": [
    {
     "name": "stdout",
     "output_type": "stream",
     "text": [
      "{'codes': ['ap2sta_data_frame', '(', 'struct', '_adapter', '*adapter,', 'union', 'recv_frame', '*precv_frame,', 'struct', 'sta_info', '**psta', ')', '{', 'u8', '*ptr', '=', 'precv_frame', '-', '>', 'u.hdr.rx_data', ';', 'struct', 'rx_pkt_attrib', '*pattrib', '=', '&precv_frame', '-', '>', 'u.hdr.attrib', ';', 'structsta_priv', '*pstapriv', '=', '&adapter', '-', '>', 'stapriv', ';', 'structmlme_priv', '*pmlmepriv', '=', '&adapter', '-', '>', 'mlmepriv', ';', 'u8', '*mybssid', '=', 'get_bssid', '(', 'pmlmepriv', ')', ';', 'u8', '*myhwaddr', '=', 'myid', '(', '&adapter', '-', '>', 'eeprompriv', ')', ';', 'sint', 'bmcast', '=', 'IS_MCAST', '(', 'pattrib', '-', '>', 'dst', ')', ';', 'if', '(', 'check_fwstate', '(', 'pmlmepriv,', 'WIFI_STATION_STATE', ')', '&&', 'check_fwstate', '(', 'pmlmepriv,', '_FW_LINKED', ')', ')', '{', '*', 'if', 'NULL', '-', 'frame,', 'drop', 'packet', '*if', '(', '(', 'GetFrameSubType', '(', 'ptr', ')', ')', '==', 'WIFI_DATA_NULL', ')', 'return', '_FAIL', ';', '*', 'drop', 'QoS', '-', 'SubType', 'Data,', 'including', 'QoS', 'NULL,', '*', 'excluding', 'QoS', '-', 'Data', '*if', '(', '(', 'GetFrameSubType', '(', 'ptr', ')', '&', 'WIFI_QOS_DATA_TYPE', ')', '==', 'WIFI_QOS_DATA_TYPE', ')', '{', 'if', '(', 'GetFrameSubType', '(', 'ptr', ')', '&', '(', 'BIT', '(', '4', ')', '|', 'BIT', '(', '5', ')', '|', 'BIT', '(', '6', ')', ')', ')', 'return', '_FAIL', ';', '}*', 'filter', 'packets', 'that', 'SA', 'is', 'myself', 'or', 'multicast', 'or', 'broadcast', '*', 'if', '(', '!memcmp', '(', 'myhwaddr,', 'pattrib', '-', '>', 'src,', 'ETH_ALEN', ')', ')', 'return', '_FAIL', ';', '*', 'da', 'should', 'be', 'for', 'me', '*if', '(', '(', 'memcmp', '(', 'myhwaddr,', 'pattrib', '-', '>', 'dst,', 'ETH_ALEN', ')', ')', '&&', '(', '!bmcast', ')', ')', 'return', '_FAIL', ';', '*', 'check', 'BSSID', '*if', '(', 'is_zero_ether_addr', '(', 'pattrib', '-', '>', 'bssid', ')', '||', 'is_zero_ether_addr', '(', 'mybssid', ')', '||', '(', 'memcmp', '(', 'pattrib', '-', '>', 'bssid,', 'mybssid,', 'ETH_ALEN', ')', ')', ')', 'return', '_FAIL', ';', 'if', '(', 'bmcast', ')', '*psta', '=', 'r8712_get_bcmc_stainfo', '(', 'adapter', ')', ';', 'else', '*psta', '=', 'r8712_get_stainfo', '(', 'pstapriv,', 'pattrib', '-', '>', 'bssid', ')', ';', 'if', '(', '*psta', '==', 'NULL', ')', 'return', '_FAIL', ';', '}', 'else', 'if', '(', 'check_fwstate', '(', 'pmlmepriv,', 'WIFI_MP_STATE', ')', '&&', 'check_fwstate', '(', 'pmlmepriv,', '_FW_LINKED', ')', ')', '{', 'memcpy', '(', 'pattrib', '-', '>', 'dst,', 'GetAddr1Ptr', '(', 'ptr', ')', ',', 'ETH_ALEN', ')', ';', 'memcpy', '(', 'pattrib', '-', '>', 'src,', 'GetAddr2Ptr', '(', 'ptr', ')', ',', 'ETH_ALEN', ')', ';', 'memcpy', '(', 'pattrib', '-', '>', 'bssid,', 'GetAddr3Ptr', '(', 'ptr', ')', ',', 'ETH_ALEN', ')', ';', 'memcpy', '(', 'pattrib', '-', '>', 'ra,', 'pattrib', '-', '>', 'dst,', 'ETH_ALEN', ')', ';', 'memcpy', '(', 'pattrib', '-', '>', 'ta,', 'pattrib', '-', '>', 'src,', 'ETH_ALEN', ')', ';', 'memcpy', '(', 'pattrib', '-', '>', 'bssid,', 'mybssid,', 'ETH_ALEN', ')', ';', '*psta', '=', 'r8712_get_stainfo', '(', 'pstapriv,', 'pattrib', '-', '>', 'bssid', ')', ';', 'if', '(', '*psta', '==', 'NULL', ')', 'return', '_FAIL', ';', '}', 'else', '{', 'return', '_FAIL', ';', '}return', '_SUCCESS', ';', '}'], 'label': 1}\n"
     ]
    }
   ],
   "source": [
    "## Testing\n",
    "print(vars(valid_data[0]))"
   ]
  },
  {
   "cell_type": "markdown",
   "metadata": {},
   "source": [
    "Doneeeeeeeeeeeeeeeee !"
   ]
  },
  {
   "cell_type": "markdown",
   "metadata": {},
   "source": [
    "### Vocabulary-related preparation"
   ]
  },
  {
   "cell_type": "code",
   "execution_count": 5,
   "metadata": {},
   "outputs": [],
   "source": [
    "##### Build the vocabulary\n",
    "\n",
    "MAX_VOCAB_SIZE = 10000\n",
    "\n",
    "CODES.build_vocab(train_data, max_size = MAX_VOCAB_SIZE)\n",
    "LABEL.build_vocab(train_data)"
   ]
  },
  {
   "cell_type": "code",
   "execution_count": 6,
   "metadata": {},
   "outputs": [
    {
     "name": "stdout",
     "output_type": "stream",
     "text": [
      "Unique tokens in TEXT vocabulary: 10002\n",
      "Unique tokens in LABEL vocabulary: 2\n"
     ]
    }
   ],
   "source": [
    "print(f\"Unique tokens in TEXT vocabulary: {len(CODES.vocab)}\")\n",
    "print(f\"Unique tokens in LABEL vocabulary: {len(LABEL.vocab)}\")"
   ]
  },
  {
   "cell_type": "code",
   "execution_count": 7,
   "metadata": {},
   "outputs": [
    {
     "name": "stdout",
     "output_type": "stream",
     "text": [
      "[('(', 137341), (')', 137335), (';', 126428), ('-', 63469), ('=', 62779), ('>', 49012), ('{', 30774), ('*', 26072), ('if', 25875), ('}', 19709), ('+', 18237), ('0', 18226), ('[', 16280), (']', 16266), ('return', 13210), ('i', 10592), ('==', 10370), ('1', 10307), ('<', 9378), ('int', 8585), ('NULL', 7709), ('char', 7436), ('the', 7378), (',', 6696), ('!', 6244), ('struct', 5460), ('for', 4792), ('else', 4561), ('to', 4177), ('const', 4168), ('&&', 3850), ('#', 3560), ('sizeof', 3116), ('break', 3016), ('case', 3007), ('a', 2886), ('ret', 2631), ('||', 2556), ('len', 2522), ('unsigned', 2479), ('&', 2318), ('is', 2286), ('of', 2264), ('p', 2133), ('2', 2122), ('data', 2041), ('in', 1984), ('this', 1952), ('buf', 1898), ('0,', 1882), (':', 1781), ('size', 1735), ('n', 1662), ('while', 1641), ('s', 1604), ('void', 1590), ('%s', 1582), ('and', 1565), ('we', 1551), ('not', 1550), ('name', 1515), ('%s,', 1485), ('goto', 1471), ('j', 1462), ('}}', 1408), ('file', 1402), ('c', 1398), ('error', 1379), ('result', 1283), ('|', 1276), ('?', 1227), ('type', 1206), ('fprintf', 1186), ('*if', 1158), ('1,', 1098), ('size_t', 1091), ('x', 1091), ('it', 1088), ('NULL,', 1086), ('strlen', 1074), ('r', 1065), ('next', 1038), ('3', 1033), ('}if', 1027), ('buf,', 1024), ('be', 1004), ('4', 989), ('long', 986), ('err', 981), ('buffer', 938), ('memcpy', 932), ('FALSE', 927), ('count', 922), ('free', 918), ('value', 897), ('priv', 865), ('t', 841), ('printf', 824), ('%d', 819), ('that', 816)]\n"
     ]
    }
   ],
   "source": [
    "## Most common word\n",
    "print(CODES.vocab.freqs.most_common(100))"
   ]
  },
  {
   "cell_type": "code",
   "execution_count": 8,
   "metadata": {},
   "outputs": [
    {
     "name": "stdout",
     "output_type": "stream",
     "text": [
      "['<unk>', '<pad>', '(', ')', ';', '-', '=', '>', '{', '*']\n",
      "defaultdict(None, {0: 0, 1: 1})\n",
      "1\n"
     ]
    }
   ],
   "source": [
    "print(CODES.vocab.itos[:10])\n",
    "print(LABEL.vocab.stoi)\n",
    "print(CODES.vocab.stoi[CODES.pad_token])"
   ]
  },
  {
   "cell_type": "code",
   "execution_count": 9,
   "metadata": {},
   "outputs": [],
   "source": [
    "## place into iterators\n",
    "train_iterator, valid_iterator, test_iterator = torchtext.data.BucketIterator.splits(\n",
    "    (train_data, valid_data, test_data), \n",
    "    batch_size = 64,\n",
    "    sort = False,\n",
    "    device = device)"
   ]
  },
  {
   "cell_type": "markdown",
   "metadata": {},
   "source": [
    "### Prepare Word2Vec (Optional)"
   ]
  },
  {
   "cell_type": "code",
   "execution_count": null,
   "metadata": {},
   "outputs": [],
   "source": [
    "corpus = pd.read_json('.data/train.json',orient='records',lines=True)\n",
    "\n",
    "w2v = Word2Vec(corpus.codes, size=300, workers=16, sg=1, min_count=3)\n",
    "w2v.save('.data/node_w2v_128')"
   ]
  },
  {
   "cell_type": "code",
   "execution_count": 10,
   "metadata": {},
   "outputs": [
    {
     "data": {
      "text/plain": [
       "array([[ 0.04268723, -0.01990928, -0.10372822, ...,  0.34928635,\n",
       "        -0.24622028, -0.02363101],\n",
       "       [ 0.06655177, -0.08706249, -0.11346684, ...,  0.2967248 ,\n",
       "        -0.16500187, -0.10260527],\n",
       "       [ 0.10059763, -0.0993171 , -0.14234892, ...,  0.3913037 ,\n",
       "        -0.22237949,  0.02339004],\n",
       "       ...,\n",
       "       [-0.0031671 ,  0.01939397, -0.00094254, ..., -0.06062187,\n",
       "        -0.0873417 ,  0.10190531],\n",
       "       [-0.03719744,  0.02801778,  0.02174594, ..., -0.05577604,\n",
       "        -0.07265704, -0.00079473],\n",
       "       [ 0.01092949, -0.03061507, -0.045645  , ..., -0.06999503,\n",
       "        -0.15679213,  0.11291362]], dtype=float32)"
      ]
     },
     "execution_count": 10,
     "metadata": {},
     "output_type": "execute_result"
    }
   ],
   "source": [
    "w2v = Word2Vec.load('.data/node_w2v_128')\n",
    "w2v.wv.vectors"
   ]
  },
  {
   "cell_type": "markdown",
   "metadata": {},
   "source": [
    "### Transformer class (with LSTM)"
   ]
  },
  {
   "cell_type": "code",
   "execution_count": 10,
   "metadata": {},
   "outputs": [
    {
     "name": "stdout",
     "output_type": "stream",
     "text": [
      "Transformer(\n",
      "  (embed): Embedding(10002, 400)\n",
      "  (encode_layer): TransformerEncoderLayer(\n",
      "    (self_attn): MultiheadAttention(\n",
      "      (out_proj): Linear(in_features=400, out_features=400, bias=True)\n",
      "    )\n",
      "    (linear1): Linear(in_features=400, out_features=2048, bias=True)\n",
      "    (dropout): Dropout(p=0.1, inplace=False)\n",
      "    (linear2): Linear(in_features=2048, out_features=400, bias=True)\n",
      "    (norm1): LayerNorm((400,), eps=1e-05, elementwise_affine=True)\n",
      "    (norm2): LayerNorm((400,), eps=1e-05, elementwise_affine=True)\n",
      "    (dropout1): Dropout(p=0.1, inplace=False)\n",
      "    (dropout2): Dropout(p=0.1, inplace=False)\n",
      "  )\n",
      "  (trans_encoder): TransformerEncoder(\n",
      "    (layers): ModuleList(\n",
      "      (0): TransformerEncoderLayer(\n",
      "        (self_attn): MultiheadAttention(\n",
      "          (out_proj): Linear(in_features=400, out_features=400, bias=True)\n",
      "        )\n",
      "        (linear1): Linear(in_features=400, out_features=2048, bias=True)\n",
      "        (dropout): Dropout(p=0.1, inplace=False)\n",
      "        (linear2): Linear(in_features=2048, out_features=400, bias=True)\n",
      "        (norm1): LayerNorm((400,), eps=1e-05, elementwise_affine=True)\n",
      "        (norm2): LayerNorm((400,), eps=1e-05, elementwise_affine=True)\n",
      "        (dropout1): Dropout(p=0.1, inplace=False)\n",
      "        (dropout2): Dropout(p=0.1, inplace=False)\n",
      "      )\n",
      "    )\n",
      "  )\n",
      "  (lstm1): LSTM(400, 128, num_layers=2, batch_first=True, bidirectional=True)\n",
      "  (dropout): Dropout(p=0.4, inplace=False)\n",
      "  (fc1): Linear(in_features=256, out_features=2, bias=True)\n",
      ")\n"
     ]
    }
   ],
   "source": [
    "class Transformer(nn.Module):\n",
    "    def __init__(self):\n",
    "        super(Transformer,self).__init__()\n",
    "        \n",
    "        self.embed = nn.Embedding(num_embeddings=10002,\n",
    "                                  embedding_dim=400)\n",
    "        self.encode_layer = nn.TransformerEncoderLayer(d_model=400,\n",
    "                                                       nhead=8,\n",
    "                                                       dim_feedforward=2048,\n",
    "                                                       dropout=0.1,\n",
    "                                                       activation='relu')\n",
    "        self.trans_encoder = nn.TransformerEncoder(self.encode_layer,\n",
    "                                                   num_layers=1)\n",
    "        self.lstm1 = nn.LSTM(input_size=400,\n",
    "                            hidden_size=128,\n",
    "                            num_layers=2,\n",
    "                            batch_first=True,\n",
    "                            bidirectional=True)\n",
    "        self.dropout = nn.Dropout(0.3)\n",
    "        self.fc1 = nn.Linear(128*2,2)\n",
    "    \n",
    "    def forward(self,x):\n",
    "        x = self.embed(x)\n",
    "        x = self.trans_encoder(x)\n",
    "        output, (hidden, cell) = self.lstm1(x)\n",
    "        x = self.dropout(torch.cat((hidden[-2,:,:], hidden[-1,:,:]), dim=1))\n",
    "        x = self.fc1(x)\n",
    "        return(x)\n",
    "\n",
    "model = Transformer()\n",
    "model.to(device)\n",
    "print(model)"
   ]
  },
  {
   "cell_type": "markdown",
   "metadata": {},
   "source": [
    "### LSTM class"
   ]
  },
  {
   "cell_type": "code",
   "execution_count": 17,
   "metadata": {},
   "outputs": [
    {
     "name": "stdout",
     "output_type": "stream",
     "text": [
      "LSTM(\n",
      "  (embed): Embedding(10002, 150)\n",
      "  (lstm1): LSTM(150, 64, num_layers=2, batch_first=True, bidirectional=True)\n",
      "  (dropout): Dropout(p=0.3, inplace=False)\n",
      "  (fc2): Linear(in_features=128, out_features=2, bias=True)\n",
      ")\n"
     ]
    }
   ],
   "source": [
    "global k\n",
    "class LSTM(nn.Module):\n",
    "    def __init__(self):\n",
    "        super(LSTM,self).__init__()\n",
    "\n",
    "        self.embed = nn.Embedding(num_embeddings=10002,\n",
    "                                  embedding_dim=150)\n",
    "        global k\n",
    "        k = self.embed\n",
    "        \n",
    "        self.lstm1 = nn.LSTM(input_size=150,\n",
    "                            hidden_size=64,\n",
    "                            num_layers=2,\n",
    "                            batch_first=True,\n",
    "                            bidirectional=True)\n",
    "        #self.fc1 = nn.Linear(128,64)\n",
    "        self.dropout = nn.Dropout(0.3)\n",
    "        self.fc2 = nn.Linear(64*2,2)\n",
    "        \n",
    "    \n",
    "    def forward(self,x):\n",
    "        x = self.embed(x)\n",
    "        output, (hidden, cell) = self.lstm1(x)\n",
    "        #x = output[:,-1,:]\n",
    "        x = self.dropout(torch.cat((hidden[-2,:,:], hidden[-1,:,:]), dim=1))\n",
    "        #x =self.dropout(torch.cat((cell[-2,:,:], cell[-1,:,:]), dim=1))\n",
    "        #x = self.fc1(x)\n",
    "        #x = F.relu(x)\n",
    "        x = self.fc2(x)\n",
    "        #x = F.log_softmax(x,dim=1)\n",
    "        return(x)\n",
    "    \n",
    "model = LSTM()\n",
    "model.to(device)\n",
    "print(model)"
   ]
  },
  {
   "cell_type": "markdown",
   "metadata": {},
   "source": [
    "### CNN Class"
   ]
  },
  {
   "cell_type": "code",
   "execution_count": 10,
   "metadata": {
    "collapsed": true,
    "jupyter": {
     "outputs_hidden": true,
     "source_hidden": true
    }
   },
   "outputs": [
    {
     "name": "stdout",
     "output_type": "stream",
     "text": [
      "CNN(\n",
      "  (embed): Embedding(10002, 128)\n",
      "  (cnn1): Conv2d(1, 20, kernel_size=(2, 2), stride=(1, 1))\n",
      "  (cnn2): Conv2d(1, 20, kernel_size=(3, 3), stride=(1, 1))\n",
      "  (cnn3): Conv2d(1, 20, kernel_size=(4, 4), stride=(1, 1))\n",
      "  (fc1): Linear(in_features=60, out_features=2, bias=True)\n",
      ")\n"
     ]
    }
   ],
   "source": [
    "class CNN(nn.Module):\n",
    "    def __init__(self):\n",
    "        super(CNN,self).__init__()\n",
    "        \n",
    "        self.embed = nn.Embedding(num_embeddings=10002,\n",
    "                                  embedding_dim=128)\n",
    "        self.cnn1 = nn.Conv2d(in_channels=1,\n",
    "                              out_channels=20,\n",
    "                              kernel_size=2)\n",
    "        self.cnn2 = nn.Conv2d(in_channels=1,\n",
    "                              out_channels=20,\n",
    "                              kernel_size=3)\n",
    "        self.cnn3 = nn.Conv2d(in_channels=1,\n",
    "                              out_channels=20,\n",
    "                              kernel_size=4)\n",
    "        self.fc1 = nn.Linear(60,2)\n",
    "        #self.fc2 = nn.Linear(30,2)\n",
    "    \n",
    "    def forward(self,x):\n",
    "        \n",
    "        x = self.embed(x)\n",
    "        x = x.unsqueeze(1)\n",
    "        \n",
    "        x1 = F.relu(self.cnn1(x))\n",
    "        x1 = F.max_pool2d(x1,2)\n",
    "        x1 = torch.flatten(x1,start_dim=1)\n",
    "        \n",
    "        x2 = F.relu(self.cnn2(x))\n",
    "        x2 = F.max_pool2d(x2,3)\n",
    "        x2 = torch.flatten(x2,start_dim=1)\n",
    "        \n",
    "        x3 = F.relu(self.cnn3(x))\n",
    "        x3 = F.max_pool2d(x3,4)\n",
    "        x3 = torch.flatten(x3,start_dim=1)\n",
    "        \n",
    "        x = torch.cat((x1,x2,x3), dim=1)\n",
    "        self.fc1 = nn.Linear(x.shape[1],2)\n",
    "        x = self.fc1(x.to(device))\n",
    "        return(x)\n",
    "    \n",
    "model = CNN()\n",
    "model.to(device)\n",
    "print(model)"
   ]
  },
  {
   "cell_type": "markdown",
   "metadata": {},
   "source": [
    "### Load Word2Vec weights to embeddings"
   ]
  },
  {
   "cell_type": "code",
   "execution_count": 14,
   "metadata": {},
   "outputs": [],
   "source": [
    "weights = torch.FloatTensor(w2v.wv.vectors)\n",
    "weights = weights.to(device)\n",
    "model.embed = model.embed.from_pretrained(weights)\n",
    "#model.embed = model.embed.weight.data.copy_(weights)"
   ]
  },
  {
   "cell_type": "markdown",
   "metadata": {},
   "source": [
    "### Parameters"
   ]
  },
  {
   "cell_type": "code",
   "execution_count": 11,
   "metadata": {},
   "outputs": [
    {
     "name": "stdout",
     "output_type": "stream",
     "text": [
      "The model has 9,507,394 trainable parameters\n"
     ]
    }
   ],
   "source": [
    "def count_parameters(model):\n",
    "    return sum(p.numel() for p in model.parameters() if p.requires_grad)\n",
    "\n",
    "print(f'The model has {count_parameters(model):,} trainable parameters')"
   ]
  },
  {
   "cell_type": "markdown",
   "metadata": {},
   "source": [
    "### Prepare accuracy function"
   ]
  },
  {
   "cell_type": "code",
   "execution_count": 12,
   "metadata": {},
   "outputs": [],
   "source": [
    "def binary_accuracy(preds, y):\n",
    "    \"\"\"\n",
    "    Returns accuracy per batch, i.e. if you get 8/10 right, this returns 0.8, NOT 8\n",
    "    \"\"\"\n",
    "\n",
    "    #round predictions to the closest integer\n",
    "    rounded_preds = torch.round(preds)\n",
    "    correct = (rounded_preds == y).float() #convert into float for division \n",
    "    acc = correct.sum() / len(correct)\n",
    "    return acc"
   ]
  },
  {
   "cell_type": "code",
   "execution_count": 13,
   "metadata": {},
   "outputs": [],
   "source": [
    "def softmax_accuracy(probs,all_labels):\n",
    "    def getClass(x):\n",
    "        return(x.index(max(x)))\n",
    "    \n",
    "    all_labels = all_labels.tolist()\n",
    "    probs = pd.Series(probs.tolist())\n",
    "    all_predicted = probs.apply(getClass)\n",
    "    all_predicted.reset_index(drop=True, inplace=True)\n",
    "    vc = pd.value_counts(all_predicted == all_labels)\n",
    "    try:\n",
    "        acc = vc[1]/len(all_labels)\n",
    "    except:\n",
    "        if(vc.index[0]==False):\n",
    "            acc = 0\n",
    "        else:\n",
    "            acc = 1\n",
    "    return(acc)"
   ]
  },
  {
   "cell_type": "markdown",
   "metadata": {},
   "source": [
    "### Loss functions"
   ]
  },
  {
   "cell_type": "code",
   "execution_count": 14,
   "metadata": {},
   "outputs": [],
   "source": [
    "## Define optimizer\n",
    "#optimizer = SGD(model.parameters(), lr = 0.01)\n",
    "optimizer = Adam(model.parameters(), lr=0.0001)\n",
    "\n",
    "## Define loss function\n",
    "#criterion = nn.BCELoss().to(device) ## Sigmoid activation function\n",
    "#criterion = nn.NLLLoss().to(device) ### Log_softmax activation\n",
    "criterion = nn.CrossEntropyLoss().to(device) ## No activation function bcs softmax included"
   ]
  },
  {
   "cell_type": "markdown",
   "metadata": {},
   "source": [
    "### Training"
   ]
  },
  {
   "cell_type": "code",
   "execution_count": 15,
   "metadata": {},
   "outputs": [
    {
     "name": "stdout",
     "output_type": "stream",
     "text": [
      "Epoch 1 - Training acc: 0.601875 -Training loss: 0.658849 - Val acc: 0.702930 - Val loss: 0.588059 - Time: 133.0646s\n",
      "Epoch 2 - Training acc: 0.682250 -Training loss: 0.600370 - Val acc: 0.734961 - Val loss: 0.559920 - Time: 147.2044s\n",
      "Epoch 3 - Training acc: 0.719125 -Training loss: 0.561072 - Val acc: 0.723242 - Val loss: 0.564683 - Time: 144.9974s\n",
      "Epoch 4 - Training acc: 0.729375 -Training loss: 0.545416 - Val acc: 0.738477 - Val loss: 0.534211 - Time: 147.8693s\n",
      "Epoch 5 - Training acc: 0.751750 -Training loss: 0.516850 - Val acc: 0.747656 - Val loss: 0.514336 - Time: 146.3242s\n",
      "Epoch 6 - Training acc: 0.780500 -Training loss: 0.483858 - Val acc: 0.750000 - Val loss: 0.561842 - Time: 149.5559s\n",
      "Epoch 7 - Training acc: 0.795875 -Training loss: 0.463784 - Val acc: 0.764453 - Val loss: 0.506208 - Time: 146.0353s\n",
      "Epoch 8 - Training acc: 0.811625 -Training loss: 0.441723 - Val acc: 0.737695 - Val loss: 0.533636 - Time: 144.8598s\n",
      "Epoch 9 - Training acc: 0.821500 -Training loss: 0.417834 - Val acc: 0.753711 - Val loss: 0.510125 - Time: 142.3551s\n",
      "Epoch 10 - Training acc: 0.839500 -Training loss: 0.389644 - Val acc: 0.782617 - Val loss: 0.514704 - Time: 143.7215s\n",
      "Epoch 11 - Training acc: 0.864000 -Training loss: 0.354084 - Val acc: 0.769922 - Val loss: 0.525645 - Time: 148.2550s\n",
      "Epoch 12 - Training acc: 0.872250 -Training loss: 0.328930 - Val acc: 0.765039 - Val loss: 0.569956 - Time: 146.1090s\n",
      "Epoch 13 - Training acc: 0.889750 -Training loss: 0.300135 - Val acc: 0.773828 - Val loss: 0.598022 - Time: 151.3146s\n",
      "Epoch 14 - Training acc: 0.903625 -Training loss: 0.266527 - Val acc: 0.758203 - Val loss: 0.618003 - Time: 145.9338s\n",
      "Epoch 15 - Training acc: 0.915250 -Training loss: 0.238447 - Val acc: 0.750195 - Val loss: 0.643554 - Time: 145.8172s\n",
      "Epoch 16 - Training acc: 0.919500 -Training loss: 0.223072 - Val acc: 0.767773 - Val loss: 0.640837 - Time: 150.7901s\n",
      "Epoch 17 - Training acc: 0.932125 -Training loss: 0.194487 - Val acc: 0.752930 - Val loss: 0.748920 - Time: 153.6395s\n",
      "Epoch 18 - Training acc: 0.947125 -Training loss: 0.164070 - Val acc: 0.742188 - Val loss: 0.783967 - Time: 145.7227s\n",
      "Epoch 19 - Training acc: 0.952875 -Training loss: 0.146902 - Val acc: 0.724023 - Val loss: 0.847794 - Time: 151.7613s\n",
      "Epoch 20 - Training acc: 0.954875 -Training loss: 0.139697 - Val acc: 0.753516 - Val loss: 0.858885 - Time: 146.7313s\n",
      "Epoch 21 - Training acc: 0.957875 -Training loss: 0.128665 - Val acc: 0.744727 - Val loss: 0.904345 - Time: 145.6875s\n",
      "Epoch 22 - Training acc: 0.968500 -Training loss: 0.103539 - Val acc: 0.745898 - Val loss: 1.004848 - Time: 146.6110s\n",
      "Epoch 23 - Training acc: 0.961875 -Training loss: 0.111529 - Val acc: 0.743750 - Val loss: 1.005598 - Time: 148.0163s\n",
      "Epoch 24 - Training acc: 0.971375 -Training loss: 0.086918 - Val acc: 0.731055 - Val loss: 1.045343 - Time: 146.3122s\n",
      "Epoch 25 - Training acc: 0.978625 -Training loss: 0.071642 - Val acc: 0.747070 - Val loss: 1.099649 - Time: 143.7048s\n",
      "Epoch 26 - Training acc: 0.979750 -Training loss: 0.063572 - Val acc: 0.749609 - Val loss: 1.138831 - Time: 140.1484s\n",
      "Epoch 27 - Training acc: 0.973625 -Training loss: 0.075438 - Val acc: 0.745117 - Val loss: 1.098300 - Time: 149.7127s\n",
      "Epoch 28 - Training acc: 0.980750 -Training loss: 0.060505 - Val acc: 0.730078 - Val loss: 1.059702 - Time: 144.6036s\n"
     ]
    },
    {
     "ename": "KeyboardInterrupt",
     "evalue": "",
     "output_type": "error",
     "traceback": [
      "\u001b[1;31m---------------------------------------------------------------------------\u001b[0m",
      "\u001b[1;31mKeyboardInterrupt\u001b[0m                         Traceback (most recent call last)",
      "\u001b[1;32m<ipython-input-15-434f144b01e4>\u001b[0m in \u001b[0;36m<module>\u001b[1;34m\u001b[0m\n\u001b[0;32m     10\u001b[0m         \u001b[0moutput\u001b[0m \u001b[1;33m=\u001b[0m \u001b[0mmodel\u001b[0m\u001b[1;33m(\u001b[0m\u001b[0mbatch\u001b[0m\u001b[1;33m.\u001b[0m\u001b[0mcodes\u001b[0m\u001b[1;33m)\u001b[0m\u001b[1;33m\u001b[0m\u001b[1;33m\u001b[0m\u001b[0m\n\u001b[0;32m     11\u001b[0m         \u001b[0mloss\u001b[0m \u001b[1;33m=\u001b[0m \u001b[0mcriterion\u001b[0m\u001b[1;33m(\u001b[0m\u001b[0moutput\u001b[0m\u001b[1;33m,\u001b[0m \u001b[0mbatch\u001b[0m\u001b[1;33m.\u001b[0m\u001b[0mlabel\u001b[0m\u001b[1;33m)\u001b[0m\u001b[1;33m\u001b[0m\u001b[1;33m\u001b[0m\u001b[0m\n\u001b[1;32m---> 12\u001b[1;33m         \u001b[0mloss\u001b[0m\u001b[1;33m.\u001b[0m\u001b[0mbackward\u001b[0m\u001b[1;33m(\u001b[0m\u001b[1;33m)\u001b[0m\u001b[1;33m\u001b[0m\u001b[1;33m\u001b[0m\u001b[0m\n\u001b[0m\u001b[0;32m     13\u001b[0m         \u001b[0moptimizer\u001b[0m\u001b[1;33m.\u001b[0m\u001b[0mstep\u001b[0m\u001b[1;33m(\u001b[0m\u001b[1;33m)\u001b[0m\u001b[1;33m\u001b[0m\u001b[1;33m\u001b[0m\u001b[0m\n\u001b[0;32m     14\u001b[0m         \u001b[0macc\u001b[0m \u001b[1;33m=\u001b[0m \u001b[0msoftmax_accuracy\u001b[0m\u001b[1;33m(\u001b[0m\u001b[0moutput\u001b[0m\u001b[1;33m,\u001b[0m\u001b[0mbatch\u001b[0m\u001b[1;33m.\u001b[0m\u001b[0mlabel\u001b[0m\u001b[1;33m)\u001b[0m\u001b[1;33m\u001b[0m\u001b[1;33m\u001b[0m\u001b[0m\n",
      "\u001b[1;32mc:\\users\\hazim\\anaconda3\\envs\\pytorch\\lib\\site-packages\\torch\\tensor.py\u001b[0m in \u001b[0;36mbackward\u001b[1;34m(self, gradient, retain_graph, create_graph)\u001b[0m\n\u001b[0;32m    193\u001b[0m                 \u001b[0mproducts\u001b[0m\u001b[1;33m.\u001b[0m \u001b[0mDefaults\u001b[0m \u001b[0mto\u001b[0m\u001b[0;31m \u001b[0m\u001b[0;31m`\u001b[0m\u001b[0;31m`\u001b[0m\u001b[1;32mFalse\u001b[0m\u001b[0;31m`\u001b[0m\u001b[0;31m`\u001b[0m\u001b[1;33m.\u001b[0m\u001b[1;33m\u001b[0m\u001b[1;33m\u001b[0m\u001b[0m\n\u001b[0;32m    194\u001b[0m         \"\"\"\n\u001b[1;32m--> 195\u001b[1;33m         \u001b[0mtorch\u001b[0m\u001b[1;33m.\u001b[0m\u001b[0mautograd\u001b[0m\u001b[1;33m.\u001b[0m\u001b[0mbackward\u001b[0m\u001b[1;33m(\u001b[0m\u001b[0mself\u001b[0m\u001b[1;33m,\u001b[0m \u001b[0mgradient\u001b[0m\u001b[1;33m,\u001b[0m \u001b[0mretain_graph\u001b[0m\u001b[1;33m,\u001b[0m \u001b[0mcreate_graph\u001b[0m\u001b[1;33m)\u001b[0m\u001b[1;33m\u001b[0m\u001b[1;33m\u001b[0m\u001b[0m\n\u001b[0m\u001b[0;32m    196\u001b[0m \u001b[1;33m\u001b[0m\u001b[0m\n\u001b[0;32m    197\u001b[0m     \u001b[1;32mdef\u001b[0m \u001b[0mregister_hook\u001b[0m\u001b[1;33m(\u001b[0m\u001b[0mself\u001b[0m\u001b[1;33m,\u001b[0m \u001b[0mhook\u001b[0m\u001b[1;33m)\u001b[0m\u001b[1;33m:\u001b[0m\u001b[1;33m\u001b[0m\u001b[1;33m\u001b[0m\u001b[0m\n",
      "\u001b[1;32mc:\\users\\hazim\\anaconda3\\envs\\pytorch\\lib\\site-packages\\torch\\autograd\\__init__.py\u001b[0m in \u001b[0;36mbackward\u001b[1;34m(tensors, grad_tensors, retain_graph, create_graph, grad_variables)\u001b[0m\n\u001b[0;32m     97\u001b[0m     Variable._execution_engine.run_backward(\n\u001b[0;32m     98\u001b[0m         \u001b[0mtensors\u001b[0m\u001b[1;33m,\u001b[0m \u001b[0mgrad_tensors\u001b[0m\u001b[1;33m,\u001b[0m \u001b[0mretain_graph\u001b[0m\u001b[1;33m,\u001b[0m \u001b[0mcreate_graph\u001b[0m\u001b[1;33m,\u001b[0m\u001b[1;33m\u001b[0m\u001b[1;33m\u001b[0m\u001b[0m\n\u001b[1;32m---> 99\u001b[1;33m         allow_unreachable=True)  # allow_unreachable flag\n\u001b[0m\u001b[0;32m    100\u001b[0m \u001b[1;33m\u001b[0m\u001b[0m\n\u001b[0;32m    101\u001b[0m \u001b[1;33m\u001b[0m\u001b[0m\n",
      "\u001b[1;31mKeyboardInterrupt\u001b[0m: "
     ]
    }
   ],
   "source": [
    "epochs=100\n",
    "for e in range(epochs):\n",
    "    running_acc = 0\n",
    "    running_loss = 0\n",
    "    timer = time.time()\n",
    "    model.train()\n",
    "\n",
    "    for batch in train_iterator:\n",
    "        optimizer.zero_grad()\n",
    "        output = model(batch.codes)\n",
    "        loss = criterion(output, batch.label)\n",
    "        loss.backward()\n",
    "        optimizer.step()\n",
    "        acc = softmax_accuracy(output,batch.label)\n",
    "        running_acc += acc.item()\n",
    "        running_loss += loss.item()\n",
    "    else:\n",
    "        with torch.no_grad():\n",
    "            model.eval()\n",
    "            running_acc_val = 0\n",
    "            running_loss_val = 0\n",
    "            for batch in valid_iterator:\n",
    "                output_val = model(batch.codes)\n",
    "                loss_val = criterion(output_val,batch.label)\n",
    "                acc_val = softmax_accuracy(output_val,batch.label)\n",
    "                running_acc_val += acc_val.item()\n",
    "                running_loss_val += loss_val.item()\n",
    "        \n",
    "        print(\"Epoch {} - Training acc: {:.6f} -Training loss: {:.6f} - Val acc: {:.6f} - Val loss: {:.6f} - Time: {:.4f}s\".format(e+1, running_acc/len(train_iterator), running_loss/len(train_iterator), running_acc_val/len(valid_iterator), running_loss_val/len(valid_iterator), (time.time()-timer)))"
   ]
  },
  {
   "cell_type": "code",
   "execution_count": 23,
   "metadata": {},
   "outputs": [
    {
     "name": "stdout",
     "output_type": "stream",
     "text": [
      "Train acc:  0.934125\n",
      "Train loss:  0.19550545418262483\n",
      "Confusion matrix: \n",
      " [[3718  282]\n",
      " [ 245 3755]]\n"
     ]
    }
   ],
   "source": [
    "import sklearn.metrics\n",
    "from sklearn.metrics import confusion_matrix\n",
    "\n",
    "model.eval()\n",
    "with torch.no_grad():\n",
    "    running_acc_test = 0\n",
    "    running_loss_test = 0\n",
    "    all_pred=[]\n",
    "    all_labels=[]\n",
    "    for batch in train_iterator:\n",
    "        output_test = model(batch.codes).squeeze(1)\n",
    "        loss_test = criterion(output_test,batch.label)\n",
    "        acc_test = softmax_accuracy(output_test,batch.label)\n",
    "        running_acc_test += acc_test.item()\n",
    "        running_loss_test += loss_test.item()\n",
    "        all_pred += output_test.tolist()\n",
    "        all_labels += batch.label.tolist()\n",
    "\n",
    "\n",
    "print('Train acc: ',running_acc_test/len(train_iterator))\n",
    "print('Train loss: ',running_loss_test/len(train_iterator))\n",
    "\n",
    "\n",
    "def getClass(x):\n",
    "    return(x.index(max(x)))\n",
    "\n",
    "probs = pd.Series(all_pred)\n",
    "all_predicted = probs.apply(getClass)\n",
    "all_predicted.reset_index(drop=True, inplace=True)\n",
    "vc = pd.value_counts(all_predicted == all_labels)\n",
    "\n",
    "confusion = sklearn.metrics.confusion_matrix(y_true=all_labels, y_pred=all_predicted)\n",
    "print('Confusion matrix: \\n',confusion)"
   ]
  },
  {
   "cell_type": "markdown",
   "metadata": {},
   "source": [
    "### Testing"
   ]
  },
  {
   "cell_type": "code",
   "execution_count": 22,
   "metadata": {},
   "outputs": [
    {
     "name": "stdout",
     "output_type": "stream",
     "text": [
      "Test acc:  0.714453125\n",
      "Test loss:  0.8120712712407112\n",
      "Confusion matrix: \n",
      " [[362 138]\n",
      " [149 351]]\n",
      "\n",
      "TP: 351\n",
      "FP: 138\n",
      "TN: 362\n",
      "FN: 149\n",
      "\n",
      "Accuracy: 0.713\n",
      "Precision: 0.7177914110429447\n",
      "Recall: 0.702\n",
      "F-measure: 0.7098078867542973\n",
      "MCC: 0.4261031294374961\n"
     ]
    }
   ],
   "source": [
    "### SOFTMAX\n",
    "\n",
    "import sklearn.metrics\n",
    "from sklearn.metrics import confusion_matrix\n",
    "\n",
    "model.eval()\n",
    "with torch.no_grad():\n",
    "    running_acc_test = 0\n",
    "    running_loss_test = 0\n",
    "    all_pred=[]\n",
    "    all_labels=[]\n",
    "    for batch in test_iterator:\n",
    "        output_test = model(batch.codes).squeeze(1)\n",
    "        loss_test = criterion(output_test,batch.label)\n",
    "        acc_test = softmax_accuracy(output_test,batch.label)\n",
    "        running_acc_test += acc_test.item()\n",
    "        running_loss_test += loss_test.item()\n",
    "        all_pred += output_test.tolist()\n",
    "        all_labels += batch.label.tolist()\n",
    "\n",
    "\n",
    "print('Test acc: ',running_acc_test/len(test_iterator))\n",
    "print('Test loss: ',running_loss_test/len(test_iterator))\n",
    "\n",
    "\n",
    "def getClass(x):\n",
    "    return(x.index(max(x)))\n",
    "\n",
    "probs = pd.Series(all_pred)\n",
    "all_predicted = probs.apply(getClass)\n",
    "all_predicted.reset_index(drop=True, inplace=True)\n",
    "vc = pd.value_counts(all_predicted == all_labels)\n",
    "\n",
    "confusion = sklearn.metrics.confusion_matrix(y_true=all_labels, y_pred=all_predicted)\n",
    "print('Confusion matrix: \\n',confusion)\n",
    "\n",
    "\n",
    "tn, fp, fn, tp = confusion.ravel()\n",
    "print('\\nTP:',tp)\n",
    "print('FP:',fp)\n",
    "print('TN:',tn)\n",
    "print('FN:',fn)\n",
    "\n",
    "## Performance measure\n",
    "print('\\nAccuracy: '+ str(sklearn.metrics.accuracy_score(y_true=all_labels, y_pred=all_predicted)))\n",
    "print('Precision: '+ str(sklearn.metrics.precision_score(y_true=all_labels, y_pred=all_predicted)))\n",
    "print('Recall: '+ str(sklearn.metrics.recall_score(y_true=all_labels, y_pred=all_predicted)))\n",
    "print('F-measure: '+ str(sklearn.metrics.f1_score(y_true=all_labels, y_pred=all_predicted)))\n",
    "#print('Precision-Recall AUC: '+ str(sklearn.metrics.average_precision_score(y_true=all_labels, y_score=all_pred)))\n",
    "#print('AUC: '+ str(sklearn.metrics.roc_auc_score(y_true=all_labels, y_score=all_pred)))\n",
    "print('MCC: '+ str(sklearn.metrics.matthews_corrcoef(y_true=all_labels, y_pred=all_predicted)))"
   ]
  },
  {
   "cell_type": "code",
   "execution_count": null,
   "metadata": {},
   "outputs": [],
   "source": [
    "#### BINARY\n",
    "\n",
    "import sklearn.metrics\n",
    "from sklearn.metrics import confusion_matrix\n",
    "\n",
    "with torch.no_grad():\n",
    "    running_acc_test = 0\n",
    "    running_loss_test = 0\n",
    "    all_pred=[]\n",
    "    all_labels=[]\n",
    "    for batch in test_iterator:\n",
    "        batch.codes = batch.codes.to(device)\n",
    "        batch.label = batch.label.to(device)\n",
    "        output_test = model(batch.codes).squeeze(1)\n",
    "        loss_test = criterion(output_test,batch.label)\n",
    "        acc_test = binary_accuracy(output_test,batch.label)\n",
    "        running_acc_test += acc_test.item()\n",
    "        running_loss_test += loss_test.item()\n",
    "        all_pred += torch.round(output_test).tolist()\n",
    "        all_labels += batch.label.tolist()\n",
    "\n",
    "\n",
    "print('Test acc: ',running_acc_test/len(test_iterator))\n",
    "print('Test loss: ',running_loss_test/len(test_iterator))\n",
    "\n",
    "confusion = sklearn.metrics.confusion_matrix(y_true=all_labels, y_pred=all_pred)\n",
    "print('Confusion matrix: \\n',confusion)"
   ]
  },
  {
   "cell_type": "markdown",
   "metadata": {},
   "source": [
    "# RESULTS"
   ]
  },
  {
   "cell_type": "code",
   "execution_count": null,
   "metadata": {},
   "outputs": [],
   "source": []
  }
 ],
 "metadata": {
  "kernelspec": {
   "display_name": "Python 3",
   "language": "python",
   "name": "python3"
  },
  "language_info": {
   "codemirror_mode": {
    "name": "ipython",
    "version": 3
   },
   "file_extension": ".py",
   "mimetype": "text/x-python",
   "name": "python",
   "nbconvert_exporter": "python",
   "pygments_lexer": "ipython3",
   "version": "3.7.3"
  }
 },
 "nbformat": 4,
 "nbformat_minor": 4
}
