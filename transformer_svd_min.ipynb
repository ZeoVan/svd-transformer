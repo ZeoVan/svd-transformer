{
 "cells": [
  {
   "cell_type": "markdown",
   "metadata": {},
   "source": [
    "# Playground for Transformers!\n",
    "\n",
    "### Attention is all you need \n",
    "(https://arxiv.org/abs/1706.03762)\n",
    "\n",
    "### For software vulnerability detection GYM"
   ]
  },
  {
   "cell_type": "markdown",
   "metadata": {},
   "source": [
    "This is a minimal example of this **CRAZY** idea!"
   ]
  },
  {
   "cell_type": "markdown",
   "metadata": {},
   "source": [
    "### Note"
   ]
  },
  {
   "cell_type": "markdown",
   "metadata": {},
   "source": [
    "* LSTM is working with:\n",
    "    * Adam Learning rate = 0.01\n",
    "    * Overfitted on 14 epoch. 100% training accuracy.\n",
    "    * Worked on 1K dataset sample\n",
    "    * Using the `hidden`n or `cell` output from LSTM. Not the `output`.\n",
    "    * Bidrectional (2 layers)\n",
    "* Transformer:\n",
    "    * Still trying to find the right combination\n",
    "    * Adam Learning rate 0.0001\n"
   ]
  },
  {
   "cell_type": "markdown",
   "metadata": {},
   "source": [
    "### Dataset"
   ]
  },
  {
   "cell_type": "markdown",
   "metadata": {},
   "source": [
    "Import"
   ]
  },
  {
   "cell_type": "code",
   "execution_count": 1,
   "metadata": {},
   "outputs": [],
   "source": [
    "import numpy as np\n",
    "import pandas as pd\n",
    "import os\n",
    "import torch\n",
    "import re\n",
    "import torch.backends.cudnn as cudnn\n",
    "import torchtext\n",
    "import matplotlib.pyplot as plt\n",
    "import time\n",
    "import torchtext.vocab as vocab\n",
    "import sklearn.metrics\n",
    "import torch.nn.functional as F\n",
    "import random\n",
    "from torch.autograd import Variable\n",
    "from torch import nn, optim\n",
    "from torch.optim import SGD,Adam\n",
    "from gensim.models.word2vec import Word2Vec\n",
    "from sklearn.metrics import confusion_matrix\n",
    "from clang import cindex"
   ]
  },
  {
   "cell_type": "code",
   "execution_count": 2,
   "metadata": {},
   "outputs": [
    {
     "name": "stdout",
     "output_type": "stream",
     "text": [
      "cpu\n"
     ]
    }
   ],
   "source": [
    "seed = 1234\n",
    "torch.manual_seed(seed)\n",
    "device = torch.device(\"cuda\" if torch.cuda.is_available() else \"cpu\")\n",
    "#device = torch.device('cpu')\n",
    "os.environ['CUDA_LAUNCH_BLOCKING'] = '1'\n",
    "cudnn.benchmark = True\n",
    "cudnn.enabled = True\n",
    "print(device)"
   ]
  },
  {
   "cell_type": "markdown",
   "metadata": {},
   "source": [
    "Load playset dataset"
   ]
  },
  {
   "cell_type": "code",
   "execution_count": 3,
   "metadata": {},
   "outputs": [],
   "source": [
    "dataset = pd.read_pickle('playset(0.25.2).pickle')"
   ]
  },
  {
   "cell_type": "markdown",
   "metadata": {},
   "source": [
    "View dataset"
   ]
  },
  {
   "cell_type": "code",
   "execution_count": 4,
   "metadata": {},
   "outputs": [
    {
     "data": {
      "text/html": [
       "<div>\n",
       "<style scoped>\n",
       "    .dataframe tbody tr th:only-of-type {\n",
       "        vertical-align: middle;\n",
       "    }\n",
       "\n",
       "    .dataframe tbody tr th {\n",
       "        vertical-align: top;\n",
       "    }\n",
       "\n",
       "    .dataframe thead th {\n",
       "        text-align: right;\n",
       "    }\n",
       "</style>\n",
       "<table border=\"1\" class=\"dataframe\">\n",
       "  <thead>\n",
       "    <tr style=\"text-align: right;\">\n",
       "      <th></th>\n",
       "      <th>functionSource</th>\n",
       "      <th>combine</th>\n",
       "    </tr>\n",
       "  </thead>\n",
       "  <tbody>\n",
       "    <tr>\n",
       "      <th>93792</th>\n",
       "      <td>go_file_opener_open (GOFileOpener const *fo, g...</td>\n",
       "      <td>False</td>\n",
       "    </tr>\n",
       "    <tr>\n",
       "      <th>79770</th>\n",
       "      <td>updatePathMap(bool left_level) {\\n\\tPoint from...</td>\n",
       "      <td>False</td>\n",
       "    </tr>\n",
       "    <tr>\n",
       "      <th>66999</th>\n",
       "      <td>interpret_tilde(const char* path) {\\n    stati...</td>\n",
       "      <td>False</td>\n",
       "    </tr>\n",
       "    <tr>\n",
       "      <th>44284</th>\n",
       "      <td>checkVarExp(\\n        Absyn *node,\\n        Ta...</td>\n",
       "      <td>True</td>\n",
       "    </tr>\n",
       "    <tr>\n",
       "      <th>49515</th>\n",
       "      <td>will_have_skip_worktree(const struct cache_ent...</td>\n",
       "      <td>True</td>\n",
       "    </tr>\n",
       "    <tr>\n",
       "      <th>...</th>\n",
       "      <td>...</td>\n",
       "      <td>...</td>\n",
       "    </tr>\n",
       "    <tr>\n",
       "      <th>96701</th>\n",
       "      <td>AVLTree_insert(AVLTree * tree, void * data)\\n{...</td>\n",
       "      <td>False</td>\n",
       "    </tr>\n",
       "    <tr>\n",
       "      <th>67815</th>\n",
       "      <td>remove_hook(const char *name, hookfn fn)\\n{\\n\\...</td>\n",
       "      <td>False</td>\n",
       "    </tr>\n",
       "    <tr>\n",
       "      <th>88363</th>\n",
       "      <td>output_def(dico_stream_t str, struct gcide_db ...</td>\n",
       "      <td>False</td>\n",
       "    </tr>\n",
       "    <tr>\n",
       "      <th>65929</th>\n",
       "      <td>getState(\\n\\t\\tFLMUINT\\t\\tuiFieldID)\\n\\t{\\n\\t\\...</td>\n",
       "      <td>False</td>\n",
       "    </tr>\n",
       "    <tr>\n",
       "      <th>16426</th>\n",
       "      <td>untag_proplist(Pulse_Tag *tag, Eina_Hash **pro...</td>\n",
       "      <td>True</td>\n",
       "    </tr>\n",
       "  </tbody>\n",
       "</table>\n",
       "<p>100000 rows × 2 columns</p>\n",
       "</div>"
      ],
      "text/plain": [
       "                                          functionSource  combine\n",
       "93792  go_file_opener_open (GOFileOpener const *fo, g...    False\n",
       "79770  updatePathMap(bool left_level) {\\n\\tPoint from...    False\n",
       "66999  interpret_tilde(const char* path) {\\n    stati...    False\n",
       "44284  checkVarExp(\\n        Absyn *node,\\n        Ta...     True\n",
       "49515  will_have_skip_worktree(const struct cache_ent...     True\n",
       "...                                                  ...      ...\n",
       "96701  AVLTree_insert(AVLTree * tree, void * data)\\n{...    False\n",
       "67815  remove_hook(const char *name, hookfn fn)\\n{\\n\\...    False\n",
       "88363  output_def(dico_stream_t str, struct gcide_db ...    False\n",
       "65929  getState(\\n\\t\\tFLMUINT\\t\\tuiFieldID)\\n\\t{\\n\\t\\...    False\n",
       "16426  untag_proplist(Pulse_Tag *tag, Eina_Hash **pro...     True\n",
       "\n",
       "[100000 rows x 2 columns]"
      ]
     },
     "execution_count": 4,
     "metadata": {},
     "output_type": "execute_result"
    }
   ],
   "source": [
    "dataset"
   ]
  },
  {
   "cell_type": "code",
   "execution_count": 5,
   "metadata": {},
   "outputs": [
    {
     "data": {
      "text/html": [
       "<div>\n",
       "<style scoped>\n",
       "    .dataframe tbody tr th:only-of-type {\n",
       "        vertical-align: middle;\n",
       "    }\n",
       "\n",
       "    .dataframe tbody tr th {\n",
       "        vertical-align: top;\n",
       "    }\n",
       "\n",
       "    .dataframe thead th {\n",
       "        text-align: right;\n",
       "    }\n",
       "</style>\n",
       "<table border=\"1\" class=\"dataframe\">\n",
       "  <thead>\n",
       "    <tr style=\"text-align: right;\">\n",
       "      <th></th>\n",
       "      <th>functionSource</th>\n",
       "      <th>combine</th>\n",
       "    </tr>\n",
       "  </thead>\n",
       "  <tbody>\n",
       "    <tr>\n",
       "      <th>count</th>\n",
       "      <td>100000</td>\n",
       "      <td>100000</td>\n",
       "    </tr>\n",
       "    <tr>\n",
       "      <th>unique</th>\n",
       "      <td>100000</td>\n",
       "      <td>2</td>\n",
       "    </tr>\n",
       "    <tr>\n",
       "      <th>top</th>\n",
       "      <td>gst_alpha_chroma_key_ayuv_argb (const guint8 *...</td>\n",
       "      <td>True</td>\n",
       "    </tr>\n",
       "    <tr>\n",
       "      <th>freq</th>\n",
       "      <td>1</td>\n",
       "      <td>50000</td>\n",
       "    </tr>\n",
       "  </tbody>\n",
       "</table>\n",
       "</div>"
      ],
      "text/plain": [
       "                                           functionSource combine\n",
       "count                                              100000  100000\n",
       "unique                                             100000       2\n",
       "top     gst_alpha_chroma_key_ayuv_argb (const guint8 *...    True\n",
       "freq                                                    1   50000"
      ]
     },
     "execution_count": 5,
     "metadata": {},
     "output_type": "execute_result"
    }
   ],
   "source": [
    "dataset.describe(include='all')"
   ]
  },
  {
   "cell_type": "code",
   "execution_count": 6,
   "metadata": {},
   "outputs": [
    {
     "data": {
      "text/plain": [
       "'CardPowerOff (reader* globalData, char socket) {\\r\\n    char cmd[4], ack;\\r\\n    int retVal, actual, retryTimes = 2;\\r\\n\\r\\n#ifdef ASE_DEBUG\\r\\n    syslog(LOG_INFO, \"\\\\n CardPowerOff - Enter\\\\n\");\\r\\n#endif\\r\\n\\r\\n    if ((retVal = cardCommandInit(globalData, socket, 1)))\\r\\n        return retVal;\\r\\n\\r\\n    cmd[0] = ASE_PACKET_TYPE(0x50, globalData->commandCounter, socket);\\r\\n    globalData->commandCounter++;\\r\\n    globalData->commandCounter %= 4;\\r\\n    cmd[1] = 0x21;\\r\\n    cmd[2] = 0x0;\\r\\n    cmd[3] = cmd[0] ^ cmd[1] ^ cmd[2];\\r\\n\\r\\n    do {\\r\\n        lock_mutex(globalData);\\r\\n        retVal = sendControlCommand(globalData, socket, cmd, 4, &ack, &actual, 0);\\r\\n        unlock_mutex(globalData);\\r\\n\\r\\n        retryTimes--;\\r\\n    } while (retVal != ASE_OK && retryTimes);\\r\\n\\r\\n    // if during the 3 tries the command failed, return an error status\\r\\n    if (retVal < 0) {\\r\\n        return retVal; \\r\\n    }\\r\\n\\r\\n    if (ack != 0x20) {\\r\\n        return parseStatus(ack); \\r\\n    }\\r\\n\\r\\n    /* if the card is present, change the status to powered off */\\r\\n    if (globalData->cards[(int)socket].status)\\r\\n\\t    globalData->cards[(int)socket].status = 1; \\r\\n\\r\\n#ifdef ASE_DEBUG\\r\\n    syslog(LOG_INFO, \" CardPowerOff - Exit\\\\n\");\\r\\n#endif\\r\\n\\r\\n    return ASE_OK; \\r\\n}'"
      ]
     },
     "execution_count": 6,
     "metadata": {},
     "output_type": "execute_result"
    }
   ],
   "source": [
    "dataset.functionSource[24492]"
   ]
  },
  {
   "cell_type": "markdown",
   "metadata": {},
   "source": [
    "### Clang Tokenizer"
   ]
  },
  {
   "cell_type": "code",
   "execution_count": 6,
   "metadata": {},
   "outputs": [],
   "source": [
    "## Check your library path for clang llvm\n",
    "cindex.Config.set_library_path('/usr/lib/llvm-6.0/lib')\n",
    "idx = cindex.Index.create()\n",
    "global c\n",
    "c=0\n",
    "def clang_tokenizer(code):\n",
    "    global c\n",
    "    c+=1\n",
    "    print('{0}'.format(c), end='\\r')\n",
    "    \n",
    "    ## Remove code comments\n",
    "    pat = re.compile(r'(/\\*([^*]|(\\*+[^*/]))*\\*+/)|(//.*)')\n",
    "    code = re.sub(pat,'',code)\n",
    "    \n",
    "    ## Tokkenize using clang\n",
    "    tok = []\n",
    "    tu = idx.parse('tmp.cpp',\n",
    "                   args=[''],  \n",
    "                   unsaved_files=[('tmp.cpp', code)],  \n",
    "                   options=0)\n",
    "    for t in tu.get_tokens(extent=tu.cursor.extent):\n",
    "        tok.append(t.spelling)\n",
    "    return(tok)"
   ]
  },
  {
   "cell_type": "code",
   "execution_count": null,
   "metadata": {},
   "outputs": [],
   "source": [
    "dataset = dataset.functionSource.apply(clang_tokenizer)"
   ]
  },
  {
   "cell_type": "markdown",
   "metadata": {},
   "source": [
    "#### Cleaner & Tokkenizer"
   ]
  },
  {
   "cell_type": "code",
   "execution_count": 3,
   "metadata": {},
   "outputs": [],
   "source": [
    "global c\n",
    "c=0\n",
    "def my_tokenizer(code):\n",
    "    global c\n",
    "    c+=1\n",
    "    print('{0}'.format(c), end='\\r')\n",
    "    \n",
    "    pat = re.compile(r'(/\\*([^*]|(\\*+[^*/]))*\\*+/)|(//.*)')\n",
    "    code = re.sub(pat,'',code)\n",
    "    \n",
    "    ## Remove code comments\n",
    "    #code = re.sub(r'(/\\*([^*]|[\\r\\n]|(\\*+([^*/]|[\\r\\n])))*\\*+/)|(//.*)','',code)\n",
    "    \n",
    "    ## Remove newlines & tabs\n",
    "    code = re.sub('(\\n)|(\\\\\\\\n)|(\\\\\\\\)|(\\\\t)|(/)|(\\\\r)','',code)\n",
    "    \n",
    "    ## Mix split (characters and words)\n",
    "    splitter = '\\\"(.*?)\\\"| +|(;)|(\\()|(==)|(\\))|(=)|(\\+)|(\\-)|(\\[)|(\\])|(<)|(>)|(\\.)|({)'\n",
    "    code = re.split(splitter,code)\n",
    "    \n",
    "    ## Remove None type\n",
    "    code = list(filter(None, code))\n",
    "    \n",
    "    code = list(filter(str.strip, code))\n",
    "    #code = \" \".join(code)\n",
    "    \n",
    "    ## Return list of tokens\n",
    "    return(code)"
   ]
  },
  {
   "cell_type": "code",
   "execution_count": null,
   "metadata": {},
   "outputs": [],
   "source": [
    "dataset = dataset.functionSource.apply(my_tokenizer)"
   ]
  },
  {
   "cell_type": "markdown",
   "metadata": {},
   "source": [
    "### Prepare data (in JSON)"
   ]
  },
  {
   "cell_type": "code",
   "execution_count": 8,
   "metadata": {},
   "outputs": [],
   "source": [
    "## Change labels boolean to 1 and 0\n",
    "dataset.iloc[:,1] = np.multiply(dataset.iloc[:,1],1)"
   ]
  },
  {
   "cell_type": "code",
   "execution_count": 9,
   "metadata": {},
   "outputs": [],
   "source": [
    "## Change column name\n",
    "dataset = dataset.rename(columns={'functionSource':'codes', 'combine':'label'})"
   ]
  },
  {
   "cell_type": "code",
   "execution_count": 10,
   "metadata": {},
   "outputs": [],
   "source": [
    "false = dataset[dataset.iloc[:,1]==0]\n",
    "true = dataset[dataset.iloc[:,1]==1]"
   ]
  },
  {
   "cell_type": "code",
   "execution_count": 11,
   "metadata": {},
   "outputs": [],
   "source": [
    "## Split to train,test,valid\n",
    "train = false[0:20000].append(true[0:1333])\n",
    "test  = false[20000:22494].append(true[2000:2166])\n",
    "valid = false[30000:32494].append(true[3000:3166])\n",
    "\n",
    "## Shuffle\n",
    "train = train.sample(frac=1).reset_index(drop=True)\n",
    "test = test.sample(frac=1).reset_index(drop=True)\n",
    "valid = valid.sample(frac=1).reset_index(drop=True)"
   ]
  },
  {
   "cell_type": "code",
   "execution_count": 12,
   "metadata": {},
   "outputs": [],
   "source": [
    "## Save to json\n",
    "train.to_json('.data/train_ratio.json', orient='records',lines=True)\n",
    "test.to_json('.data/test_ratio.json', orient='records',lines=True)\n",
    "valid.to_json('.data/valid_ratio.json', orient='records',lines=True)"
   ]
  },
  {
   "cell_type": "code",
   "execution_count": 4,
   "metadata": {},
   "outputs": [],
   "source": [
    "## Define the field\n",
    "\n",
    "CODES = torchtext.data.Field(batch_first=True, tokenize=my_tokenizer)\n",
    "LABEL = torchtext.data.LabelField(dtype=torch.long)\n",
    "fields = {'codes': ('codes', CODES), 'label': ('label', LABEL)}"
   ]
  },
  {
   "cell_type": "code",
   "execution_count": 5,
   "metadata": {},
   "outputs": [
    {
     "name": "stdout",
     "output_type": "stream",
     "text": [
      "26653\r"
     ]
    }
   ],
   "source": [
    "## Import ratio dataset 20K\n",
    "train_data, valid_data, test_data = torchtext.data.TabularDataset.splits(\n",
    "                                        path = '.data',\n",
    "                                        train = 'train_ratio.json',\n",
    "                                        validation = 'valid_ratio.json',\n",
    "                                        test = 'test_ratio.json',\n",
    "                                        format = 'json',\n",
    "                                        fields = fields)"
   ]
  },
  {
   "cell_type": "code",
   "execution_count": 4,
   "metadata": {},
   "outputs": [],
   "source": [
    "## Import the 1K data as TabularDataset\n",
    "train_data, valid_data, test_data = torchtext.data.TabularDataset.splits(\n",
    "                                        path = '.data',\n",
    "                                        train = 'train_1k.json',\n",
    "                                        validation = 'valid_1k.json',\n",
    "                                        test = 'test_1k.json',\n",
    "                                        format = 'json',\n",
    "                                        fields = fields)"
   ]
  },
  {
   "cell_type": "code",
   "execution_count": 4,
   "metadata": {},
   "outputs": [],
   "source": [
    "## Import the min(10k) data as TabularDataset\n",
    "train_data, valid_data, test_data = torchtext.data.TabularDataset.splits(\n",
    "                                        path = '.data',\n",
    "                                        train = 'train_min.json',\n",
    "                                        validation = 'valid_min.json',\n",
    "                                        test = 'test_min.json',\n",
    "                                        format = 'json',\n",
    "                                        fields = fields)"
   ]
  },
  {
   "cell_type": "code",
   "execution_count": 4,
   "metadata": {},
   "outputs": [],
   "source": [
    "## Import the 100K data as TabularDataset\n",
    "train_data, valid_data, test_data = torchtext.data.TabularDataset.splits(\n",
    "                                        path = '.data',\n",
    "                                        train = 'train_100K.json',\n",
    "                                        validation = 'valid_100k.json',\n",
    "                                        test = 'test_100k.json',\n",
    "                                        format = 'json',\n",
    "                                        fields = fields)"
   ]
  },
  {
   "cell_type": "code",
   "execution_count": 15,
   "metadata": {},
   "outputs": [
    {
     "name": "stdout",
     "output_type": "stream",
     "text": [
      "{'codes': ['serial8250_tx_chars', '(', 'struct', 'uart_8250_port', '*up', ')', '{', 'struct', 'uart_port', '*port', '=', '&up', '-', '>', 'port', ';', 'struct', 'circ_buf', '*xmit', '=', '&port', '-', '>', 'state', '-', '>', 'xmit', ';', 'int', 'count', ';', 'if', '(', 'port', '-', '>', 'x_char', ')', '{', 'serial_out', '(', 'up,', 'UART_TX,', 'port', '-', '>', 'x_char', ')', ';', 'port', '-', '>', 'icount', '.', 'tx', '+', '+', ';', 'port', '-', '>', 'x_char', '=', '0', ';', 'return', ';', '}if', '(', 'uart_tx_stopped', '(', 'port', ')', ')', '{', 'serial8250_stop_tx', '(', 'port', ')', ';', 'return', ';', '}if', '(', 'uart_circ_empty', '(', 'xmit', ')', ')', '{', '__stop_tx', '(', 'up', ')', ';', 'return', ';', '}count', '=', 'up', '-', '>', 'tx_loadsz', ';', 'do', '{', 'serial_out', '(', 'up,', 'UART_TX,', 'xmit', '-', '>', 'buf', '[', 'xmit', '-', '>', 'tail', ']', ')', ';', 'xmit', '-', '>', 'tail', '=', '(', 'xmit', '-', '>', 'tail', '+', '1', ')', '&', '(', 'UART_XMIT_SIZE', '-', '1', ')', ';', 'port', '-', '>', 'icount', '.', 'tx', '+', '+', ';', 'if', '(', 'uart_circ_empty', '(', 'xmit', ')', ')', 'break', ';', 'if', '(', 'up', '-', '>', 'capabilities', '&', 'UART_CAP_HFIFO', ')', '{', 'if', '(', '(', 'serial_port_in', '(', 'port,', 'UART_LSR', ')', '&', 'BOTH_EMPTY', ')', '!', '=', 'BOTH_EMPTY', ')', 'break', ';', '}}', 'while', '(', '-', '-', 'count', '>', '0', ')', ';', 'if', '(', 'uart_circ_chars_pending', '(', 'xmit', ')', '<', 'WAKEUP_CHARS', ')', 'uart_write_wakeup', '(', 'port', ')', ';', 'DEBUG_INTR', '(', 'THRE...', ')', ';', 'if', '(', 'uart_circ_empty', '(', 'xmit', ')', '&&', '!', '(', 'up', '-', '>', 'capabilities', '&', 'UART_CAP_RPM', ')', ')', '__stop_tx', '(', 'up', ')', ';', '}'], 'label': 0}\n"
     ]
    }
   ],
   "source": [
    "## Testing\n",
    "print(vars(valid_data[0]))"
   ]
  },
  {
   "cell_type": "markdown",
   "metadata": {},
   "source": [
    "Doneeeeeeeeeeeeeeeee !"
   ]
  },
  {
   "cell_type": "markdown",
   "metadata": {},
   "source": [
    "### Vocabulary-related preparation"
   ]
  },
  {
   "cell_type": "code",
   "execution_count": 6,
   "metadata": {},
   "outputs": [],
   "source": [
    "##### Build the vocabulary\n",
    "\n",
    "MAX_VOCAB_SIZE = 10000\n",
    "\n",
    "CODES.build_vocab(train_data, max_size = MAX_VOCAB_SIZE)\n",
    "LABEL.build_vocab(train_data)"
   ]
  },
  {
   "cell_type": "code",
   "execution_count": 7,
   "metadata": {},
   "outputs": [
    {
     "name": "stdout",
     "output_type": "stream",
     "text": [
      "Unique tokens in TEXT vocabulary: 10002\n",
      "Unique tokens in LABEL vocabulary: 2\n"
     ]
    }
   ],
   "source": [
    "print(f\"Unique tokens in TEXT vocabulary: {len(CODES.vocab)}\")\n",
    "print(f\"Unique tokens in LABEL vocabulary: {len(LABEL.vocab)}\")"
   ]
  },
  {
   "cell_type": "code",
   "execution_count": 8,
   "metadata": {},
   "outputs": [
    {
     "name": "stdout",
     "output_type": "stream",
     "text": [
      "[('(', 304247), (')', 304234), (';', 282279), ('=', 138076), ('-', 125827), ('>', 119029), ('{', 71232), ('if', 56192), ('}', 45535), ('.', 42415), ('+', 37789), ('0', 37619), ('return', 31885), (']', 30465), ('[', 30445), (',', 24939), ('i', 24821), ('<', 23933), ('==', 20781), ('1', 19919), ('int', 18551), ('NULL', 17460), ('!', 13345), ('*', 13323), ('struct', 12115), ('const', 10376), ('char', 10091), ('else', 9572), ('&&', 8708), ('case', 8288), ('for', 7419), ('break', 7324), ('&', 6095), ('ret', 5850), ('||', 5534), ('p', 5018), ('unsigned', 4784), ('data', 4447), ('2', 4275), ('sizeof', 4085), ('}}', 3834), ('0,', 3794), ('len', 3715), ('j', 3594), ('void', 3575), ('n', 3564), ('s', 3525), ('size', 3291), ('while', 3255), ('|', 3215), ('x', 3203), ('c', 3160), ('goto', 2915), ('priv', 2914), ('result', 2803), ('name', 2781), ('}if', 2712), (':', 2700), ('type', 2692), ('false', 2604), ('this', 2585), ('FALSE', 2491), ('?', 2428), ('buf', 2389), ('NULL,', 2343), (\"'\", 2314), ('value', 2272), ('true', 2242), ('next', 2198), ('r', 2186), ('1,', 2141), ('y', 2111), ('flags', 2103), ('self', 2084), ('error', 2056), ('err', 2034), ('long', 2017), ('3', 1974), ('TRUE', 1894), ('double', 1870), ('size_t', 1839), ('d', 1766), ('state', 1757), ('count', 1734), ('t', 1733), ('4', 1722), ('val', 1653), ('a', 1652), ('switch', 1639), ('b', 1608), ('fprintf', 1607), ('}return', 1585), ('status', 1566), ('tmp', 1564), ('e', 1539), ('res', 1510), ('v', 1497), ('l', 1481), ('index', 1453), ('name,', 1403)]\n"
     ]
    }
   ],
   "source": [
    "## Most common word\n",
    "print(CODES.vocab.freqs.most_common(100))"
   ]
  },
  {
   "cell_type": "code",
   "execution_count": 9,
   "metadata": {},
   "outputs": [
    {
     "name": "stdout",
     "output_type": "stream",
     "text": [
      "['<unk>', '<pad>', '(', ')', ';', '=', '-', '>', '{', 'if']\n",
      "defaultdict(None, {0: 0, 1: 1})\n",
      "1\n"
     ]
    }
   ],
   "source": [
    "print(CODES.vocab.itos[:10])\n",
    "print(LABEL.vocab.stoi)\n",
    "print(CODES.vocab.stoi[CODES.pad_token])"
   ]
  },
  {
   "cell_type": "code",
   "execution_count": 10,
   "metadata": {},
   "outputs": [],
   "source": [
    "## place into iterators\n",
    "train_iterator, valid_iterator, test_iterator = torchtext.data.BucketIterator.splits(\n",
    "    (train_data, valid_data, test_data), \n",
    "    batch_size = 64,\n",
    "    sort = False)"
   ]
  },
  {
   "cell_type": "markdown",
   "metadata": {},
   "source": [
    "### Prepare Word2Vec (Optional)"
   ]
  },
  {
   "cell_type": "code",
   "execution_count": null,
   "metadata": {},
   "outputs": [],
   "source": [
    "corpus = pd.read_json('.data/train.json',orient='records',lines=True)\n",
    "\n",
    "w2v = Word2Vec(corpus.codes, size=300, workers=16, sg=1, min_count=3)\n",
    "w2v.save('.data/node_w2v_128')"
   ]
  },
  {
   "cell_type": "code",
   "execution_count": 10,
   "metadata": {},
   "outputs": [
    {
     "data": {
      "text/plain": [
       "array([[ 0.04268723, -0.01990928, -0.10372822, ...,  0.34928635,\n",
       "        -0.24622028, -0.02363101],\n",
       "       [ 0.06655177, -0.08706249, -0.11346684, ...,  0.2967248 ,\n",
       "        -0.16500187, -0.10260527],\n",
       "       [ 0.10059763, -0.0993171 , -0.14234892, ...,  0.3913037 ,\n",
       "        -0.22237949,  0.02339004],\n",
       "       ...,\n",
       "       [-0.0031671 ,  0.01939397, -0.00094254, ..., -0.06062187,\n",
       "        -0.0873417 ,  0.10190531],\n",
       "       [-0.03719744,  0.02801778,  0.02174594, ..., -0.05577604,\n",
       "        -0.07265704, -0.00079473],\n",
       "       [ 0.01092949, -0.03061507, -0.045645  , ..., -0.06999503,\n",
       "        -0.15679213,  0.11291362]], dtype=float32)"
      ]
     },
     "execution_count": 10,
     "metadata": {},
     "output_type": "execute_result"
    }
   ],
   "source": [
    "w2v = Word2Vec.load('.data/node_w2v_128')\n",
    "w2v.wv.vectors"
   ]
  },
  {
   "cell_type": "markdown",
   "metadata": {},
   "source": [
    "### Transformer class (with LSTM)"
   ]
  },
  {
   "cell_type": "code",
   "execution_count": 11,
   "metadata": {},
   "outputs": [
    {
     "name": "stdout",
     "output_type": "stream",
     "text": [
      "Transformer(\n",
      "  (embed): Embedding(10002, 128)\n",
      "  (encode_layer): TransformerEncoderLayer(\n",
      "    (self_attn): MultiheadAttention(\n",
      "      (out_proj): Linear(in_features=128, out_features=128, bias=True)\n",
      "    )\n",
      "    (linear1): Linear(in_features=128, out_features=2048, bias=True)\n",
      "    (dropout): Dropout(p=0.1, inplace=False)\n",
      "    (linear2): Linear(in_features=2048, out_features=128, bias=True)\n",
      "    (norm1): LayerNorm((128,), eps=1e-05, elementwise_affine=True)\n",
      "    (norm2): LayerNorm((128,), eps=1e-05, elementwise_affine=True)\n",
      "    (dropout1): Dropout(p=0.1, inplace=False)\n",
      "    (dropout2): Dropout(p=0.1, inplace=False)\n",
      "  )\n",
      "  (trans_encoder): TransformerEncoder(\n",
      "    (layers): ModuleList(\n",
      "      (0): TransformerEncoderLayer(\n",
      "        (self_attn): MultiheadAttention(\n",
      "          (out_proj): Linear(in_features=128, out_features=128, bias=True)\n",
      "        )\n",
      "        (linear1): Linear(in_features=128, out_features=2048, bias=True)\n",
      "        (dropout): Dropout(p=0.1, inplace=False)\n",
      "        (linear2): Linear(in_features=2048, out_features=128, bias=True)\n",
      "        (norm1): LayerNorm((128,), eps=1e-05, elementwise_affine=True)\n",
      "        (norm2): LayerNorm((128,), eps=1e-05, elementwise_affine=True)\n",
      "        (dropout1): Dropout(p=0.1, inplace=False)\n",
      "        (dropout2): Dropout(p=0.1, inplace=False)\n",
      "      )\n",
      "    )\n",
      "  )\n",
      "  (lstm1): LSTM(128, 128, num_layers=2, batch_first=True, bidirectional=True)\n",
      "  (dropout): Dropout(p=0.3, inplace=False)\n",
      "  (fc1): Linear(in_features=256, out_features=2, bias=True)\n",
      ")\n"
     ]
    }
   ],
   "source": [
    "class Transformer(nn.Module):\n",
    "    def __init__(self):\n",
    "        super(Transformer,self).__init__()\n",
    "        \n",
    "        self.embed = nn.Embedding(num_embeddings=10002,\n",
    "                                  embedding_dim=128)\n",
    "        self.encode_layer = nn.TransformerEncoderLayer(d_model=128,\n",
    "                                                       nhead=8,\n",
    "                                                       dim_feedforward=2048,\n",
    "                                                       dropout=0.1,\n",
    "                                                       activation='relu')\n",
    "        self.trans_encoder = nn.TransformerEncoder(self.encode_layer,\n",
    "                                                   num_layers=1)\n",
    "        self.lstm1 = nn.LSTM(input_size=128,\n",
    "                            hidden_size=128,\n",
    "                            num_layers=2,\n",
    "                            batch_first=True,\n",
    "                            bidirectional=True)\n",
    "        self.dropout = nn.Dropout(0.3)\n",
    "        self.fc1 = nn.Linear(128*2,2)\n",
    "    \n",
    "    def forward(self,x):\n",
    "        x = self.embed(x)\n",
    "        x = self.trans_encoder(x)\n",
    "        output, (hidden, cell) = self.lstm1(x)\n",
    "        x = self.dropout(torch.cat((hidden[-2,:,:], hidden[-1,:,:]), dim=1))\n",
    "        x = self.fc1(x)\n",
    "        return(x)\n",
    "\n",
    "model = Transformer()\n",
    "model.to(device)\n",
    "print(model)"
   ]
  },
  {
   "cell_type": "markdown",
   "metadata": {},
   "source": [
    "### Load Word2Vec weights to embeddings (Optional)"
   ]
  },
  {
   "cell_type": "code",
   "execution_count": null,
   "metadata": {},
   "outputs": [],
   "source": [
    "weights = torch.FloatTensor(w2v.wv.vectors)\n",
    "weights = weights.to(device)\n",
    "model.embed = model.embed.from_pretrained(weights)\n",
    "#model.embed = model.embed.weight.data.copy_(weights)"
   ]
  },
  {
   "cell_type": "markdown",
   "metadata": {},
   "source": [
    "### Parameters"
   ]
  },
  {
   "cell_type": "code",
   "execution_count": 12,
   "metadata": {},
   "outputs": [
    {
     "name": "stdout",
     "output_type": "stream",
     "text": [
      "The model has 3,126,274 trainable parameters\n"
     ]
    }
   ],
   "source": [
    "def count_parameters(model):\n",
    "    return sum(p.numel() for p in model.parameters() if p.requires_grad)\n",
    "\n",
    "print(f'The model has {count_parameters(model):,} trainable parameters')"
   ]
  },
  {
   "cell_type": "markdown",
   "metadata": {},
   "source": [
    "### Prepare accuracy function"
   ]
  },
  {
   "cell_type": "code",
   "execution_count": 13,
   "metadata": {},
   "outputs": [],
   "source": [
    "def softmax_accuracy(probs,all_labels):\n",
    "    def getClass(x):\n",
    "        return(x.index(max(x)))\n",
    "    \n",
    "    all_labels = all_labels.tolist()\n",
    "    probs = pd.Series(probs.tolist())\n",
    "    all_predicted = probs.apply(getClass)\n",
    "    all_predicted.reset_index(drop=True, inplace=True)\n",
    "    vc = pd.value_counts(all_predicted == all_labels)\n",
    "    try:\n",
    "        acc = vc[1]/len(all_labels)\n",
    "    except:\n",
    "        if(vc.index[0]==False):\n",
    "            acc = 0\n",
    "        else:\n",
    "            acc = 1\n",
    "    return(acc)"
   ]
  },
  {
   "cell_type": "markdown",
   "metadata": {},
   "source": [
    "### Loss functions"
   ]
  },
  {
   "cell_type": "code",
   "execution_count": 14,
   "metadata": {},
   "outputs": [],
   "source": [
    "## Define optimizer\n",
    "#optimizer = SGD(model.parameters(), lr = 0.01)\n",
    "#optimizer = Adam(model.parameters(), lr=0.0001, weight_decay=0.01)\n",
    "optimizer = Adam(model.parameters(), lr=0.0005)\n",
    "\n",
    "\n",
    "## Define loss function\n",
    "#criterion = nn.BCELoss().to(device) ## Sigmoid activation function\n",
    "#criterion = nn.NLLLoss().to(device) ### Log_softmax activation\n",
    "\n",
    "weights = torch.tensor([1.0, 6.0])\n",
    "criterion = nn.CrossEntropyLoss(weight=weights).to(device) ## No activation function bcs softmax included"
   ]
  },
  {
   "cell_type": "markdown",
   "metadata": {},
   "source": [
    "### Training"
   ]
  },
  {
   "cell_type": "code",
   "execution_count": 15,
   "metadata": {},
   "outputs": [
    {
     "name": "stdout",
     "output_type": "stream",
     "text": [
      "Epoch 1 - Training acc: 0.904512 -Training loss: 0.554553 - Val acc: 0.852348 - Val loss: 0.519172 - Time: 179.1126s\n",
      "Epoch 2 - Training acc: 0.872844 -Training loss: 0.504077 - Val acc: 0.891493 - Val loss: 0.510825 - Time: 169.8695s\n",
      "Epoch 3 - Training acc: 0.878130 -Training loss: 0.484272 - Val acc: 0.890377 - Val loss: 0.475982 - Time: 164.8433s\n",
      "Epoch 4 - Training acc: 0.878034 -Training loss: 0.437897 - Val acc: 0.859706 - Val loss: 0.447219 - Time: 164.4663s\n",
      "Epoch 5 - Training acc: 0.889498 -Training loss: 0.405196 - Val acc: 0.884259 - Val loss: 0.466898 - Time: 163.3034s\n",
      "Epoch 6 - Training acc: 0.896508 -Training loss: 0.379013 - Val acc: 0.914021 - Val loss: 0.473878 - Time: 163.7093s\n",
      "Epoch 7 - Training acc: 0.899792 -Training loss: 0.357238 - Val acc: 0.899140 - Val loss: 0.486168 - Time: 164.1801s\n",
      "Epoch 8 - Training acc: 0.899271 -Training loss: 0.339980 - Val acc: 0.900174 - Val loss: 0.471316 - Time: 164.9214s\n",
      "Epoch 9 - Training acc: 0.911621 -Training loss: 0.311300 - Val acc: 0.893477 - Val loss: 0.495541 - Time: 164.0744s\n",
      "Epoch 10 - Training acc: 0.912236 -Training loss: 0.292840 - Val acc: 0.898975 - Val loss: 0.511115 - Time: 164.8253s\n",
      "Epoch 11 - Training acc: 0.915461 -Training loss: 0.269719 - Val acc: 0.869006 - Val loss: 0.492968 - Time: 164.4065s\n",
      "Epoch 12 - Training acc: 0.921548 -Training loss: 0.259976 - Val acc: 0.905010 - Val loss: 0.537061 - Time: 162.9563s\n",
      "Epoch 13 - Training acc: 0.926640 -Training loss: 0.240736 - Val acc: 0.898313 - Val loss: 0.512335 - Time: 165.0767s\n",
      "Epoch 14 - Training acc: 0.929774 -Training loss: 0.225579 - Val acc: 0.849950 - Val loss: 0.582319 - Time: 163.4869s\n",
      "Epoch 15 - Training acc: 0.935161 -Training loss: 0.211014 - Val acc: 0.873471 - Val loss: 0.560369 - Time: 162.9214s\n",
      "Epoch 16 - Training acc: 0.938576 -Training loss: 0.196464 - Val acc: 0.893849 - Val loss: 0.636587 - Time: 163.7752s\n",
      "Epoch 17 - Training acc: 0.937126 -Training loss: 0.191966 - Val acc: 0.903977 - Val loss: 0.839157 - Time: 164.7239s\n",
      "Epoch 18 - Training acc: 0.940911 -Training loss: 0.181488 - Val acc: 0.908358 - Val loss: 0.784814 - Time: 162.5205s\n",
      "Epoch 19 - Training acc: 0.942922 -Training loss: 0.168657 - Val acc: 0.859706 - Val loss: 0.745470 - Time: 162.1561s\n",
      "Epoch 20 - Training acc: 0.945402 -Training loss: 0.163910 - Val acc: 0.882482 - Val loss: 0.788171 - Time: 162.4866s\n",
      "Epoch 21 - Training acc: 0.947839 -Training loss: 0.154057 - Val acc: 0.883722 - Val loss: 0.872943 - Time: 162.4068s\n",
      "Epoch 22 - Training acc: 0.952702 -Training loss: 0.139491 - Val acc: 0.882606 - Val loss: 0.899823 - Time: 163.2017s\n",
      "Epoch 23 - Training acc: 0.954620 -Training loss: 0.128213 - Val acc: 0.895337 - Val loss: 0.949608 - Time: 162.2363s\n",
      "Epoch 24 - Training acc: 0.954573 -Training loss: 0.134242 - Val acc: 0.872189 - Val loss: 0.927100 - Time: 163.1897s\n",
      "Epoch 25 - Training acc: 0.956299 -Training loss: 0.114633 - Val acc: 0.916460 - Val loss: 1.191057 - Time: 163.1718s\n",
      "Epoch 26 - Training acc: 0.960093 -Training loss: 0.117486 - Val acc: 0.882854 - Val loss: 1.054376 - Time: 162.6342s\n",
      "Epoch 27 - Training acc: 0.964397 -Training loss: 0.105091 - Val acc: 0.902034 - Val loss: 1.087966 - Time: 162.0149s\n",
      "Epoch 28 - Training acc: 0.969398 -Training loss: 0.089758 - Val acc: 0.902323 - Val loss: 1.308184 - Time: 162.9454s\n",
      "Epoch 29 - Training acc: 0.966411 -Training loss: 0.096879 - Val acc: 0.911252 - Val loss: 1.303037 - Time: 162.1625s\n",
      "Epoch 30 - Training acc: 0.967812 -Training loss: 0.091283 - Val acc: 0.900546 - Val loss: 1.239308 - Time: 161.6000s\n",
      "Epoch 31 - Training acc: 0.968601 -Training loss: 0.092557 - Val acc: 0.896371 - Val loss: 1.254470 - Time: 162.7730s\n",
      "Epoch 32 - Training acc: 0.970855 -Training loss: 0.084680 - Val acc: 0.905010 - Val loss: 1.301321 - Time: 164.5421s\n",
      "Epoch 33 - Training acc: 0.974500 -Training loss: 0.074392 - Val acc: 0.900546 - Val loss: 1.357487 - Time: 162.8403s\n",
      "Epoch 34 - Training acc: 0.977405 -Training loss: 0.064282 - Val acc: 0.917287 - Val loss: 1.706408 - Time: 162.7629s\n",
      "Epoch 35 - Training acc: 0.975533 -Training loss: 0.069989 - Val acc: 0.907159 - Val loss: 1.525541 - Time: 163.2725s\n",
      "Epoch 36 - Training acc: 0.975206 -Training loss: 0.069905 - Val acc: 0.902778 - Val loss: 1.392411 - Time: 163.5208s\n",
      "Epoch 37 - Training acc: 0.978434 -Training loss: 0.064587 - Val acc: 0.909309 - Val loss: 1.419488 - Time: 163.1568s\n",
      "Epoch 38 - Training acc: 0.982317 -Training loss: 0.055219 - Val acc: 0.907986 - Val loss: 1.559085 - Time: 163.0900s\n",
      "Epoch 39 - Training acc: 0.980396 -Training loss: 0.058215 - Val acc: 0.911252 - Val loss: 1.409954 - Time: 162.3659s\n",
      "Epoch 40 - Training acc: 0.982831 -Training loss: 0.053013 - Val acc: 0.915716 - Val loss: 1.629126 - Time: 163.2546s\n",
      "Epoch 41 - Training acc: 0.984375 -Training loss: 0.048285 - Val acc: 0.909764 - Val loss: 1.394453 - Time: 161.7964s\n",
      "Epoch 42 - Training acc: 0.985963 -Training loss: 0.046690 - Val acc: 0.900918 - Val loss: 1.516687 - Time: 162.3889s\n",
      "Epoch 43 - Training acc: 0.986335 -Training loss: 0.043304 - Val acc: 0.907821 - Val loss: 1.439917 - Time: 163.7263s\n",
      "Epoch 44 - Training acc: 0.986761 -Training loss: 0.043467 - Val acc: 0.910136 - Val loss: 1.581387 - Time: 163.0561s\n",
      "Epoch 45 - Training acc: 0.986618 -Training loss: 0.040531 - Val acc: 0.905671 - Val loss: 1.549080 - Time: 162.4767s\n",
      "Epoch 46 - Training acc: 0.986621 -Training loss: 0.044045 - Val acc: 0.903811 - Val loss: 1.392283 - Time: 162.6242s\n",
      "Epoch 47 - Training acc: 0.987884 -Training loss: 0.039613 - Val acc: 0.890790 - Val loss: 1.495089 - Time: 162.5305s\n",
      "Epoch 48 - Training acc: 0.990644 -Training loss: 0.032246 - Val acc: 0.914228 - Val loss: 1.615498 - Time: 163.1329s\n",
      "Epoch 49 - Training acc: 0.991720 -Training loss: 0.030260 - Val acc: 0.909392 - Val loss: 1.514871 - Time: 162.4716s\n",
      "Epoch 50 - Training acc: 0.990312 -Training loss: 0.032662 - Val acc: 0.907986 - Val loss: 1.706138 - Time: 163.0132s\n",
      "Epoch 51 - Training acc: 0.990363 -Training loss: 0.033762 - Val acc: 0.890501 - Val loss: 1.481685 - Time: 162.5564s\n",
      "Epoch 52 - Training acc: 0.986574 -Training loss: 0.045977 - Val acc: 0.904927 - Val loss: 1.502291 - Time: 161.5810s\n",
      "Epoch 53 - Training acc: 0.990036 -Training loss: 0.032866 - Val acc: 0.918609 - Val loss: 1.754012 - Time: 163.1389s\n",
      "Epoch 54 - Training acc: 0.994103 -Training loss: 0.021156 - Val acc: 0.896164 - Val loss: 1.657807 - Time: 163.6017s\n",
      "Epoch 55 - Training acc: 0.992281 -Training loss: 0.027749 - Val acc: 0.912368 - Val loss: 1.573586 - Time: 163.1419s\n",
      "Epoch 56 - Training acc: 0.989193 -Training loss: 0.036325 - Val acc: 0.916915 - Val loss: 1.622203 - Time: 162.1226s\n",
      "Epoch 57 - Training acc: 0.991907 -Training loss: 0.029626 - Val acc: 0.904927 - Val loss: 1.630194 - Time: 162.6761s\n",
      "Epoch 58 - Training acc: 0.994106 -Training loss: 0.021291 - Val acc: 0.909392 - Val loss: 1.739288 - Time: 162.1335s\n",
      "Epoch 59 - Training acc: 0.993685 -Training loss: 0.026285 - Val acc: 0.907242 - Val loss: 1.569332 - Time: 162.6322s\n",
      "Epoch 60 - Training acc: 0.995322 -Training loss: 0.017842 - Val acc: 0.905217 - Val loss: 1.487649 - Time: 163.1768s\n",
      "Epoch 61 - Training acc: 0.995275 -Training loss: 0.018634 - Val acc: 0.915261 - Val loss: 1.814542 - Time: 164.5172s\n",
      "Epoch 62 - Training acc: 0.993123 -Training loss: 0.024461 - Val acc: 0.903439 - Val loss: 1.717494 - Time: 162.1296s\n",
      "Epoch 63 - Training acc: 0.994106 -Training loss: 0.021795 - Val acc: 0.909392 - Val loss: 1.789688 - Time: 163.5713s\n",
      "Epoch 64 - Training acc: 0.996912 -Training loss: 0.012238 - Val acc: 0.916377 - Val loss: 1.959865 - Time: 163.2403s\n",
      "Epoch 65 - Training acc: 0.994199 -Training loss: 0.020753 - Val acc: 0.910880 - Val loss: 1.923671 - Time: 164.1372s\n",
      "Epoch 66 - Training acc: 0.993168 -Training loss: 0.026505 - Val acc: 0.911169 - Val loss: 1.587986 - Time: 163.8470s\n",
      "Epoch 67 - Training acc: 0.995883 -Training loss: 0.016696 - Val acc: 0.911169 - Val loss: 1.746245 - Time: 163.9268s\n",
      "Epoch 68 - Training acc: 0.995883 -Training loss: 0.013397 - Val acc: 0.917204 - Val loss: 1.978915 - Time: 164.3766s\n",
      "Epoch 69 - Training acc: 0.995603 -Training loss: 0.018329 - Val acc: 0.905217 - Val loss: 1.610997 - Time: 164.7336s\n",
      "Epoch 70 - Training acc: 0.995273 -Training loss: 0.017541 - Val acc: 0.907531 - Val loss: 1.881855 - Time: 164.0006s\n",
      "Epoch 71 - Training acc: 0.992188 -Training loss: 0.028913 - Val acc: 0.907531 - Val loss: 1.617461 - Time: 163.9866s\n",
      "Epoch 72 - Training acc: 0.996211 -Training loss: 0.016262 - Val acc: 0.911624 - Val loss: 1.957242 - Time: 165.2103s\n",
      "Epoch 73 - Training acc: 0.995743 -Training loss: 0.016113 - Val acc: 0.894593 - Val loss: 1.540876 - Time: 163.9417s\n",
      "Epoch 74 - Training acc: 0.991766 -Training loss: 0.029458 - Val acc: 0.898686 - Val loss: 1.471434 - Time: 164.3945s\n",
      "Epoch 75 - Training acc: 0.995135 -Training loss: 0.020350 - Val acc: 0.918692 - Val loss: 1.746044 - Time: 162.8626s\n",
      "Epoch 76 - Training acc: 0.995182 -Training loss: 0.019860 - Val acc: 0.907903 - Val loss: 1.552427 - Time: 163.2651s\n",
      "Epoch 77 - Training acc: 0.995649 -Training loss: 0.019423 - Val acc: 0.909764 - Val loss: 1.682427 - Time: 163.2107s\n",
      "Epoch 78 - Training acc: 0.995366 -Training loss: 0.017482 - Val acc: 0.884838 - Val loss: 1.387529 - Time: 164.1250s\n",
      "Epoch 79 - Training acc: 0.993357 -Training loss: 0.022549 - Val acc: 0.917204 - Val loss: 1.710481 - Time: 163.5398s\n",
      "Epoch 80 - Training acc: 0.997100 -Training loss: 0.013137 - Val acc: 0.917204 - Val loss: 1.746236 - Time: 164.4354s\n",
      "Epoch 81 - Training acc: 0.998643 -Training loss: 0.007386 - Val acc: 0.914311 - Val loss: 1.808003 - Time: 165.8586s\n",
      "Epoch 82 - Training acc: 0.997474 -Training loss: 0.010628 - Val acc: 0.916832 - Val loss: 1.838082 - Time: 163.3752s\n",
      "Epoch 83 - Training acc: 0.996679 -Training loss: 0.012314 - Val acc: 0.923528 - Val loss: 1.899883 - Time: 164.5980s\n",
      "Epoch 84 - Training acc: 0.994714 -Training loss: 0.020935 - Val acc: 0.900835 - Val loss: 1.525736 - Time: 163.1040s\n",
      "Epoch 85 - Training acc: 0.994620 -Training loss: 0.018847 - Val acc: 0.911252 - Val loss: 1.789175 - Time: 164.7414s\n",
      "Epoch 86 - Training acc: 0.995790 -Training loss: 0.016010 - Val acc: 0.913484 - Val loss: 1.791588 - Time: 164.7406s\n",
      "Epoch 87 - Training acc: 0.998784 -Training loss: 0.005585 - Val acc: 0.918692 - Val loss: 1.966562 - Time: 165.3101s\n",
      "Epoch 88 - Training acc: 0.999111 -Training loss: 0.003628 - Val acc: 0.918692 - Val loss: 2.064573 - Time: 163.7522s\n",
      "Epoch 89 - Training acc: 0.997801 -Training loss: 0.008863 - Val acc: 0.922412 - Val loss: 2.145743 - Time: 164.1292s\n",
      "Epoch 90 - Training acc: 0.993497 -Training loss: 0.024961 - Val acc: 0.909020 - Val loss: 1.550739 - Time: 164.6897s\n",
      "Epoch 91 - Training acc: 0.995977 -Training loss: 0.014884 - Val acc: 0.919436 - Val loss: 1.954010 - Time: 164.2189s\n",
      "Epoch 92 - Training acc: 0.997100 -Training loss: 0.012187 - Val acc: 0.915344 - Val loss: 1.962435 - Time: 164.6010s\n",
      "Epoch 93 - Training acc: 0.996117 -Training loss: 0.013265 - Val acc: 0.907903 - Val loss: 1.761663 - Time: 164.3267s\n",
      "Epoch 94 - Training acc: 0.994667 -Training loss: 0.019724 - Val acc: 0.913112 - Val loss: 1.791243 - Time: 164.5152s\n",
      "Epoch 95 - Training acc: 0.997240 -Training loss: 0.010215 - Val acc: 0.906043 - Val loss: 1.805145 - Time: 164.6249s\n",
      "Epoch 96 - Training acc: 0.994384 -Training loss: 0.024333 - Val acc: 0.906415 - Val loss: 1.538199 - Time: 164.3736s\n",
      "Epoch 97 - Training acc: 0.998409 -Training loss: 0.006190 - Val acc: 0.906415 - Val loss: 1.869517 - Time: 163.8051s\n",
      "Epoch 98 - Training acc: 0.998971 -Training loss: 0.005193 - Val acc: 0.903811 - Val loss: 1.857452 - Time: 165.3958s\n",
      "Epoch 99 - Training acc: 0.998176 -Training loss: 0.008425 - Val acc: 0.914972 - Val loss: 1.924392 - Time: 164.3387s\n",
      "Epoch 100 - Training acc: 0.996679 -Training loss: 0.014113 - Val acc: 0.915055 - Val loss: 1.715694 - Time: 164.2789s\n"
     ]
    }
   ],
   "source": [
    "\n",
    "epochs=100\n",
    "for e in range(epochs):\n",
    "    running_acc = 0\n",
    "    running_loss = 0\n",
    "    timer = time.time()\n",
    "    model.train()\n",
    "\n",
    "    for batch in train_iterator:\n",
    "        batch.codes, batch.label = batch.codes.to(device), batch.label.to(device)\n",
    "        optimizer.zero_grad()\n",
    "        output = model(batch.codes)\n",
    "        loss = criterion(output, batch.label)\n",
    "        loss.backward()\n",
    "        optimizer.step()\n",
    "        acc = softmax_accuracy(output,batch.label)\n",
    "        running_acc += acc.item()\n",
    "        running_loss += loss.item()\n",
    "    else:\n",
    "        with torch.no_grad():\n",
    "            model.eval()\n",
    "            running_acc_val = 0\n",
    "            running_loss_val = 0\n",
    "            for batch in valid_iterator:\n",
    "                batch.codes, batch.label = batch.codes.to(device), batch.label.to(device)\n",
    "                output_val = model(batch.codes)\n",
    "                loss_val = criterion(output_val,batch.label)\n",
    "                acc_val = softmax_accuracy(output_val,batch.label)\n",
    "                running_acc_val += acc_val.item()\n",
    "                running_loss_val += loss_val.item()\n",
    "        \n",
    "        print(\"Epoch {} - Training acc: {:.6f} -Training loss: {:.6f} - Val acc: {:.6f} - Val loss: {:.6f} - Time: {:.4f}s\".format(e+1, running_acc/len(train_iterator), running_loss/len(train_iterator), running_acc_val/len(valid_iterator), running_loss_val/len(valid_iterator), (time.time()-timer)))"
   ]
  },
  {
   "cell_type": "code",
   "execution_count": null,
   "metadata": {},
   "outputs": [],
   "source": [
    "### Evaluate on Training set\n",
    "\n",
    "import sklearn.metrics\n",
    "from sklearn.metrics import confusion_matrix\n",
    "\n",
    "model.eval()\n",
    "with torch.no_grad():\n",
    "    running_acc_test = 0\n",
    "    running_loss_test = 0\n",
    "    all_pred=[]\n",
    "    all_labels=[]\n",
    "    for batch in train_iterator:\n",
    "        batch.codes, batch.label = batch.codes.to(device), batch.label.to(device)\n",
    "        output_test = model(batch.codes).squeeze(1)\n",
    "        loss_test = criterion(output_test,batch.label)\n",
    "        acc_test = softmax_accuracy(output_test,batch.label)\n",
    "        running_acc_test += acc_test.item()\n",
    "        running_loss_test += loss_test.item()\n",
    "        all_pred += output_test.tolist()\n",
    "        all_labels += batch.label.tolist()\n",
    "\n",
    "\n",
    "print('Train acc: ',running_acc_test/len(train_iterator))\n",
    "print('Train loss: ',running_loss_test/len(train_iterator))\n",
    "\n",
    "\n",
    "def getClass(x):\n",
    "    return(x.index(max(x)))\n",
    "\n",
    "probs = pd.Series(all_pred)\n",
    "all_predicted = probs.apply(getClass)\n",
    "all_predicted.reset_index(drop=True, inplace=True)\n",
    "vc = pd.value_counts(all_predicted == all_labels)\n",
    "\n",
    "confusion = sklearn.metrics.confusion_matrix(y_true=all_labels, y_pred=all_predicted)\n",
    "print('Confusion matrix: \\n',confusion)"
   ]
  },
  {
   "cell_type": "markdown",
   "metadata": {},
   "source": [
    "### Testing"
   ]
  },
  {
   "cell_type": "code",
   "execution_count": 17,
   "metadata": {},
   "outputs": [
    {
     "name": "stdout",
     "output_type": "stream",
     "text": [
      "Test acc:  0.8771908068783068\n",
      "Test loss:  0.4461185729929379\n",
      "Confusion matrix: \n",
      " [[2249  245]\n",
      " [  82   84]]\n",
      "\n",
      "TP: 84\n",
      "FP: 245\n",
      "TN: 2249\n",
      "FN: 82\n",
      "\n",
      "Accuracy: 0.8770676691729323\n",
      "Precision: 0.2553191489361702\n",
      "Recall: 0.5060240963855421\n",
      "F-measure: 0.3393939393939393\n",
      "Precision-Recall AUC: 0.2500610212460307\n",
      "AUC: 0.8273470787721858\n",
      "MCC: 0.2996180523004313\n"
     ]
    }
   ],
   "source": [
    "### Evaluate on Testing set\n",
    "\n",
    "model.eval()\n",
    "with torch.no_grad():\n",
    "    running_acc_test = 0\n",
    "    running_loss_test = 0\n",
    "    all_pred=[]\n",
    "    all_labels=[]\n",
    "    for batch in test_iterator:\n",
    "        batch.codes, batch.label = batch.codes.to(device), batch.label.to(device)\n",
    "        output_test = model(batch.codes).squeeze(1)\n",
    "        loss_test = criterion(output_test,batch.label)\n",
    "        acc_test = softmax_accuracy(output_test,batch.label)\n",
    "        running_acc_test += acc_test.item()\n",
    "        running_loss_test += loss_test.item()\n",
    "        all_pred += output_test.tolist()\n",
    "        all_labels += batch.label.tolist()\n",
    "\n",
    "\n",
    "print('Test acc: ',running_acc_test/len(test_iterator))\n",
    "print('Test loss: ',running_loss_test/len(test_iterator))\n",
    "\n",
    "\n",
    "def getClass(x):\n",
    "    return(x.index(max(x)))\n",
    "\n",
    "probs = pd.Series(all_pred)\n",
    "all_predicted = probs.apply(getClass)\n",
    "all_predicted.reset_index(drop=True, inplace=True)\n",
    "vc = pd.value_counts(all_predicted == all_labels)\n",
    "\n",
    "probs2=[]\n",
    "for x in probs:\n",
    "    probs2.append(x[1])\n",
    "\n",
    "confusion = sklearn.metrics.confusion_matrix(y_true=all_labels, y_pred=all_predicted)\n",
    "print('Confusion matrix: \\n',confusion)\n",
    "\n",
    "\n",
    "tn, fp, fn, tp = confusion.ravel()\n",
    "print('\\nTP:',tp)\n",
    "print('FP:',fp)\n",
    "print('TN:',tn)\n",
    "print('FN:',fn)\n",
    "\n",
    "## Performance measure\n",
    "print('\\nAccuracy: '+ str(sklearn.metrics.accuracy_score(y_true=all_labels, y_pred=all_predicted)))\n",
    "print('Precision: '+ str(sklearn.metrics.precision_score(y_true=all_labels, y_pred=all_predicted)))\n",
    "print('Recall: '+ str(sklearn.metrics.recall_score(y_true=all_labels, y_pred=all_predicted)))\n",
    "print('F-measure: '+ str(sklearn.metrics.f1_score(y_true=all_labels, y_pred=all_predicted)))\n",
    "print('Precision-Recall AUC: '+ str(sklearn.metrics.average_precision_score(y_true=all_labels, y_score=probs2)))\n",
    "print('AUC: '+ str(sklearn.metrics.roc_auc_score(y_true=all_labels, y_score=probs2)))\n",
    "print('MCC: '+ str(sklearn.metrics.matthews_corrcoef(y_true=all_labels, y_pred=all_predicted)))"
   ]
  },
  {
   "cell_type": "markdown",
   "metadata": {},
   "source": [
    "# RESULTS (Testing)"
   ]
  },
  {
   "cell_type": "markdown",
   "metadata": {},
   "source": [
    "Weights : 1:3 (400)\n",
    "val loss: 0.396747\n",
    "Test acc:  0.9320849867724867\n",
    "Test loss:  0.39700411295606974\n",
    "Confusion matrix: \n",
    " [[2471   23]\n",
    " [ 158    8]]\n",
    "\n",
    "TP: 8\n",
    "FP: 23\n",
    "TN: 2471\n",
    "FN: 158\n",
    "\n",
    "Accuracy: 0.9319548872180451\n",
    "Precision: 0.25806451612903225\n",
    "Recall: 0.04819277108433735\n",
    "F-measure: 0.08121827411167513\n",
    "Precision-Recall AUC: 0.17136589216762943\n",
    "AUC: 0.717964077641762\n",
    "MCC: 0.08783419878226471\n",
    "\n",
    "\n",
    "Weights: 1:15 (400)\n",
    "Test acc:  0.8045221560846562\n",
    "Test loss:  0.5900836005097344\n",
    "Confusion matrix: \n",
    " [[2050  444]\n",
    " [  76   90]]\n",
    "\n",
    "TP: 90\n",
    "FP: 444\n",
    "TN: 2050\n",
    "FN: 76\n",
    "\n",
    "Accuracy: 0.8045112781954887\n",
    "Precision: 0.16853932584269662\n",
    "Recall: 0.5421686746987951\n",
    "F-measure: 0.2571428571428571\n",
    "Precision-Recall AUC: 0.17323523591325418\n",
    "AUC: 0.7548574409909082\n",
    "MCC: 0.21989739199806438\n",
    "\n",
    "\n",
    "Weights: 1:5 (400)\n",
    "Test acc:  0.8738425925925926\n",
    "Test loss:  0.4650661984369868\n",
    "Confusion matrix: \n",
    " [[2252  242]\n",
    " [  94   72]]\n",
    "\n",
    "TP: 72\n",
    "FP: 242\n",
    "TN: 2252\n",
    "FN: 94\n",
    "\n",
    "Accuracy: 0.8736842105263158\n",
    "Precision: 0.22929936305732485\n",
    "Recall: 0.43373493975903615\n",
    "F-measure: 0.3\n",
    "Precision-Recall AUC: 0.1893410043394382\n",
    "AUC: 0.7772436981285205\n",
    "MCC: 0.2524173571221226\n",
    "\n",
    "\n",
    "Weights: 1:5 (400) - no weight decay- lr 0.0005\n",
    "Test acc:  0.908068783068783\n",
    "Test loss:  0.4351889540751775\n",
    "Confusion matrix: \n",
    " [[2352  142]\n",
    " [ 102   64]]\n",
    "\n",
    "TP: 64\n",
    "FP: 142\n",
    "TN: 2352\n",
    "FN: 102\n",
    "\n",
    "Accuracy: 0.9082706766917293\n",
    "Precision: 0.3106796116504854\n",
    "Recall: 0.3855421686746988\n",
    "F-measure: 0.3440860215053763\n",
    "Precision-Recall AUC: 0.2703683299643296\n",
    "AUC: 0.805646805344876\n",
    "MCC: 0.2973762185965168\n",
    "\n",
    "\n",
    "Weights: 1:5 (128)- no weight decay- lr 0.0005\n",
    "Test acc:  0.8882688492063492\n",
    "Test loss:  0.5016442422001135\n",
    "Confusion matrix: \n",
    " [[2271  223]\n",
    " [  75   91]]\n",
    "\n",
    "TP: 91\n",
    "FP: 223\n",
    "TN: 2271\n",
    "FN: 75\n",
    "\n",
    "Accuracy: 0.8879699248120301\n",
    "Precision: 0.2898089171974522\n",
    "Recall: 0.5481927710843374\n",
    "F-measure: 0.3791666666666667\n",
    "Precision-Recall AUC: 0.28130664351504053\n",
    "AUC: 0.8167771325880908\n",
    "MCC: 0.3439348556798436\n",
    "\n",
    "Weights: 1:5 (128) - lr 0.001\n",
    "Test acc:  0.8771908068783068\n",
    "Test loss:  0.4461185729929379\n",
    "Confusion matrix: \n",
    " [[2249  245]\n",
    " [  82   84]]\n",
    "\n",
    "TP: 84\n",
    "FP: 245\n",
    "TN: 2249\n",
    "FN: 82\n",
    "\n",
    "Accuracy: 0.8770676691729323\n",
    "Precision: 0.2553191489361702\n",
    "Recall: 0.5060240963855421\n",
    "F-measure: 0.3393939393939393\n",
    "Precision-Recall AUC: 0.2500610212460307\n",
    "AUC: 0.8273470787721858\n",
    "MCC: 0.2996180523004313\n",
    "\n"
   ]
  },
  {
   "cell_type": "code",
   "execution_count": null,
   "metadata": {},
   "outputs": [],
   "source": []
  }
 ],
 "metadata": {
  "kernelspec": {
   "display_name": "Python 3",
   "language": "python",
   "name": "python3"
  },
  "language_info": {
   "codemirror_mode": {
    "name": "ipython",
    "version": 3
   },
   "file_extension": ".py",
   "mimetype": "text/x-python",
   "name": "python",
   "nbconvert_exporter": "python",
   "pygments_lexer": "ipython3",
   "version": "3.6.10"
  }
 },
 "nbformat": 4,
 "nbformat_minor": 4
}
